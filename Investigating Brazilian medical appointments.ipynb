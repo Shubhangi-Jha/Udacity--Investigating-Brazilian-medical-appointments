{
 "cells": [
  {
   "cell_type": "markdown",
   "metadata": {},
   "source": [
    "\n",
    "\n",
    "# Project: Investigating the Brazilian medical appointments\n",
    "\n",
    "## Table of Contents\n",
    "<ul>\n",
    "<li><a href=\"#intro\">Introduction</a></li>\n",
    "<li><a href=\"#wrangling\">Data Wrangling</a></li>\n",
    "<li><a href=\"#eda\">Exploratory Data Analysis</a></li>\n",
    "<li><a href=\"#conclusions\">Conclusions</a></li>\n",
    "</ul>"
   ]
  },
  {
   "cell_type": "markdown",
   "metadata": {},
   "source": [
    "<a id='intro'></a>\n",
    "## Introduction\n",
    "\n",
    "This dataset collects information from 100k medical appointments in Brazil and is focused on the question of whether or not patients show up for their appointment. A number of characteristics about the patient are included in each row such as:\n",
    "\n",
    "1. ‘ScheduledDay’ tells us on what day the patient set up their appointment.\n",
    "2. ‘Neighborhood’ indicates the location of the hospital.\n",
    "3. ‘Scholarship’ indicates whether or not the patient is enrolled in Brasilian welfare program Bolsa Família.\n"
   ]
  },
  {
   "cell_type": "code",
   "execution_count": 2,
   "metadata": {},
   "outputs": [],
   "source": [
    "#Importing the necessary packages.\n",
    "import pandas as pd\n",
    "import numpy as np\n",
    "import matplotlib.pyplot as plt\n"
   ]
  },
  {
   "cell_type": "markdown",
   "metadata": {},
   "source": [
    "The analysis of this Data set revolves around finding ways to achieve the following:\n",
    "\n",
    "What factors are important for us to know in order to predict if a patient will show up for their scheduled appointment?"
   ]
  },
  {
   "cell_type": "markdown",
   "metadata": {},
   "source": [
    "<a id='wrangling'></a>\n",
    "## Data Wrangling\n",
    "Let us start the analysis by wrangling the data."
   ]
  },
  {
   "cell_type": "code",
   "execution_count": 3,
   "metadata": {},
   "outputs": [
    {
     "name": "stdout",
     "output_type": "stream",
     "text": [
      "      PatientId  AppointmentID Gender          ScheduledDay  \\\n",
      "0  2.987250e+13        5642903      F  2016-04-29T18:38:08Z   \n",
      "1  5.589978e+14        5642503      M  2016-04-29T16:08:27Z   \n",
      "2  4.262962e+12        5642549      F  2016-04-29T16:19:04Z   \n",
      "3  8.679512e+11        5642828      F  2016-04-29T17:29:31Z   \n",
      "4  8.841186e+12        5642494      F  2016-04-29T16:07:23Z   \n",
      "\n",
      "         AppointmentDay  Age      Neighbourhood  Scholarship  Hipertension  \\\n",
      "0  2016-04-29T00:00:00Z   62    JARDIM DA PENHA            0             1   \n",
      "1  2016-04-29T00:00:00Z   56    JARDIM DA PENHA            0             0   \n",
      "2  2016-04-29T00:00:00Z   62      MATA DA PRAIA            0             0   \n",
      "3  2016-04-29T00:00:00Z    8  PONTAL DE CAMBURI            0             0   \n",
      "4  2016-04-29T00:00:00Z   56    JARDIM DA PENHA            0             1   \n",
      "\n",
      "   Diabetes  Alcoholism  Handcap  SMS_received No-show  \n",
      "0         0           0        0             0      No  \n",
      "1         0           0        0             0      No  \n",
      "2         0           0        0             0      No  \n",
      "3         0           0        0             0      No  \n",
      "4         1           0        0             0      No  \n"
     ]
    }
   ],
   "source": [
    "# Loading the data and printing out a few lines.\n",
    "df = pd.read_csv('noshowappointments-kagglev2-may-2016.csv')\n",
    "print(df.head())"
   ]
  },
  {
   "cell_type": "markdown",
   "metadata": {},
   "source": [
    "The Data Frame contains the following information:\n",
    "1. PatientId, AppointmentID, Gender, Scheduled Day, Appointment Day, Age are self-explanatory.\n",
    "2. 'Neighbourhood' tells us the locality of the hospital.\n",
    "3.  For columns like 'Scholarship', 'Hipertension', 'Diabetes', 'Alcoholism', 'SMS_received':\n",
    "value 0 : indicates they don't/aren't a part of it.\n",
    "value 1 : indicates they have/are a part of it.\n",
    "4. Handcap has 5 distinct values:\n",
    "0 : the person is not handicapped\n",
    "1 : person has one dysfunctional limb.\n",
    "2 : person has two dysfunctional limbs.\n",
    "3 : person has three dysfunctional limbs.\n",
    "4 : person has four dysfunctional limbs.\n",
    "5. The last row 'No-show' suggests the following:\n",
    "'No' means the patient turned up for the appointment while \n",
    "'Yes' means the patient did not turn up.\n",
    "IN THE NEXT FEW STEPS, WE WILL BE INSPECTING THE DATA FRAME."
   ]
  },
  {
   "cell_type": "code",
   "execution_count": 4,
   "metadata": {},
   "outputs": [
    {
     "data": {
      "text/plain": [
       "(110527, 14)"
      ]
     },
     "execution_count": 4,
     "metadata": {},
     "output_type": "execute_result"
    }
   ],
   "source": [
    "#Shape of the DataFrame, generates as tuple of (rows, columns)\n",
    "df.shape"
   ]
  },
  {
   "cell_type": "markdown",
   "metadata": {},
   "source": [
    "We can see from above that our data frame has 110527 rows and 14 columns."
   ]
  },
  {
   "cell_type": "code",
   "execution_count": 5,
   "metadata": {},
   "outputs": [
    {
     "name": "stdout",
     "output_type": "stream",
     "text": [
      "<class 'pandas.core.frame.DataFrame'>\n",
      "RangeIndex: 110527 entries, 0 to 110526\n",
      "Data columns (total 14 columns):\n",
      "PatientId         110527 non-null float64\n",
      "AppointmentID     110527 non-null int64\n",
      "Gender            110527 non-null object\n",
      "ScheduledDay      110527 non-null object\n",
      "AppointmentDay    110527 non-null object\n",
      "Age               110527 non-null int64\n",
      "Neighbourhood     110527 non-null object\n",
      "Scholarship       110527 non-null int64\n",
      "Hipertension      110527 non-null int64\n",
      "Diabetes          110527 non-null int64\n",
      "Alcoholism        110527 non-null int64\n",
      "Handcap           110527 non-null int64\n",
      "SMS_received      110527 non-null int64\n",
      "No-show           110527 non-null object\n",
      "dtypes: float64(1), int64(8), object(5)\n",
      "memory usage: 9.7+ MB\n"
     ]
    }
   ],
   "source": [
    "#retrieving the information about the whole DataFrame to check for possible issues\n",
    "df.info()"
   ]
  },
  {
   "cell_type": "markdown",
   "metadata": {},
   "source": [
    "As we see the information of the given data frame above, we find that:\n",
    "1. There are no missing data.\n",
    "2. However the data type of ScheduledDay is incorrect, it is a 'string' but it should be in the 'timestamp' format.\n",
    "3. The last column 'No-show' says a 'No' when a patient actually makes a visit, while it says a 'Yes' in the reverse scenario. This can be confusing and hence needs to be corrected.\n",
    "4. Also, we can drop the columns 'PatientID' and 'AppointmentID' as they don't impact the analysis."
   ]
  },
  {
   "cell_type": "code",
   "execution_count": 6,
   "metadata": {},
   "outputs": [
    {
     "data": {
      "text/plain": [
       "0        2016-04-29 18:38:08+00:00\n",
       "1        2016-04-29 16:08:27+00:00\n",
       "2        2016-04-29 16:19:04+00:00\n",
       "3        2016-04-29 17:29:31+00:00\n",
       "4        2016-04-29 16:07:23+00:00\n",
       "                    ...           \n",
       "110522   2016-05-03 09:15:35+00:00\n",
       "110523   2016-05-03 07:27:33+00:00\n",
       "110524   2016-04-27 16:03:52+00:00\n",
       "110525   2016-04-27 15:09:23+00:00\n",
       "110526   2016-04-27 13:30:56+00:00\n",
       "Name: ScheduledDay, Length: 110527, dtype: datetime64[ns, UTC]"
      ]
     },
     "execution_count": 6,
     "metadata": {},
     "output_type": "execute_result"
    }
   ],
   "source": [
    "#Cleaning the data\n",
    "#Step1. Changing the data type of the column 'ScheduledDay'\n",
    "pd.to_datetime(df.ScheduledDay)"
   ]
  },
  {
   "cell_type": "code",
   "execution_count": 7,
   "metadata": {},
   "outputs": [],
   "source": [
    "#Step 2: Dropping the unnecessary columns\n",
    "df.drop(['PatientId', 'AppointmentDay'], axis = 1, inplace =True)"
   ]
  },
  {
   "cell_type": "code",
   "execution_count": 8,
   "metadata": {},
   "outputs": [
    {
     "data": {
      "text/html": [
       "<div>\n",
       "<style scoped>\n",
       "    .dataframe tbody tr th:only-of-type {\n",
       "        vertical-align: middle;\n",
       "    }\n",
       "\n",
       "    .dataframe tbody tr th {\n",
       "        vertical-align: top;\n",
       "    }\n",
       "\n",
       "    .dataframe thead th {\n",
       "        text-align: right;\n",
       "    }\n",
       "</style>\n",
       "<table border=\"1\" class=\"dataframe\">\n",
       "  <thead>\n",
       "    <tr style=\"text-align: right;\">\n",
       "      <th></th>\n",
       "      <th>AppointmentID</th>\n",
       "      <th>Gender</th>\n",
       "      <th>ScheduledDay</th>\n",
       "      <th>Age</th>\n",
       "      <th>Neighbourhood</th>\n",
       "      <th>Scholarship</th>\n",
       "      <th>Hipertension</th>\n",
       "      <th>Diabetes</th>\n",
       "      <th>Alcoholism</th>\n",
       "      <th>Handcap</th>\n",
       "      <th>SMS_received</th>\n",
       "      <th>No-show</th>\n",
       "    </tr>\n",
       "  </thead>\n",
       "  <tbody>\n",
       "    <tr>\n",
       "      <td>0</td>\n",
       "      <td>5642903</td>\n",
       "      <td>F</td>\n",
       "      <td>2016-04-29T18:38:08Z</td>\n",
       "      <td>62</td>\n",
       "      <td>JARDIM DA PENHA</td>\n",
       "      <td>0</td>\n",
       "      <td>1</td>\n",
       "      <td>0</td>\n",
       "      <td>0</td>\n",
       "      <td>0</td>\n",
       "      <td>0</td>\n",
       "      <td>No</td>\n",
       "    </tr>\n",
       "    <tr>\n",
       "      <td>1</td>\n",
       "      <td>5642503</td>\n",
       "      <td>M</td>\n",
       "      <td>2016-04-29T16:08:27Z</td>\n",
       "      <td>56</td>\n",
       "      <td>JARDIM DA PENHA</td>\n",
       "      <td>0</td>\n",
       "      <td>0</td>\n",
       "      <td>0</td>\n",
       "      <td>0</td>\n",
       "      <td>0</td>\n",
       "      <td>0</td>\n",
       "      <td>No</td>\n",
       "    </tr>\n",
       "    <tr>\n",
       "      <td>2</td>\n",
       "      <td>5642549</td>\n",
       "      <td>F</td>\n",
       "      <td>2016-04-29T16:19:04Z</td>\n",
       "      <td>62</td>\n",
       "      <td>MATA DA PRAIA</td>\n",
       "      <td>0</td>\n",
       "      <td>0</td>\n",
       "      <td>0</td>\n",
       "      <td>0</td>\n",
       "      <td>0</td>\n",
       "      <td>0</td>\n",
       "      <td>No</td>\n",
       "    </tr>\n",
       "    <tr>\n",
       "      <td>3</td>\n",
       "      <td>5642828</td>\n",
       "      <td>F</td>\n",
       "      <td>2016-04-29T17:29:31Z</td>\n",
       "      <td>8</td>\n",
       "      <td>PONTAL DE CAMBURI</td>\n",
       "      <td>0</td>\n",
       "      <td>0</td>\n",
       "      <td>0</td>\n",
       "      <td>0</td>\n",
       "      <td>0</td>\n",
       "      <td>0</td>\n",
       "      <td>No</td>\n",
       "    </tr>\n",
       "    <tr>\n",
       "      <td>4</td>\n",
       "      <td>5642494</td>\n",
       "      <td>F</td>\n",
       "      <td>2016-04-29T16:07:23Z</td>\n",
       "      <td>56</td>\n",
       "      <td>JARDIM DA PENHA</td>\n",
       "      <td>0</td>\n",
       "      <td>1</td>\n",
       "      <td>1</td>\n",
       "      <td>0</td>\n",
       "      <td>0</td>\n",
       "      <td>0</td>\n",
       "      <td>No</td>\n",
       "    </tr>\n",
       "  </tbody>\n",
       "</table>\n",
       "</div>"
      ],
      "text/plain": [
       "   AppointmentID Gender          ScheduledDay  Age      Neighbourhood  \\\n",
       "0        5642903      F  2016-04-29T18:38:08Z   62    JARDIM DA PENHA   \n",
       "1        5642503      M  2016-04-29T16:08:27Z   56    JARDIM DA PENHA   \n",
       "2        5642549      F  2016-04-29T16:19:04Z   62      MATA DA PRAIA   \n",
       "3        5642828      F  2016-04-29T17:29:31Z    8  PONTAL DE CAMBURI   \n",
       "4        5642494      F  2016-04-29T16:07:23Z   56    JARDIM DA PENHA   \n",
       "\n",
       "   Scholarship  Hipertension  Diabetes  Alcoholism  Handcap  SMS_received  \\\n",
       "0            0             1         0           0        0             0   \n",
       "1            0             0         0           0        0             0   \n",
       "2            0             0         0           0        0             0   \n",
       "3            0             0         0           0        0             0   \n",
       "4            0             1         1           0        0             0   \n",
       "\n",
       "  No-show  \n",
       "0      No  \n",
       "1      No  \n",
       "2      No  \n",
       "3      No  \n",
       "4      No  "
      ]
     },
     "execution_count": 8,
     "metadata": {},
     "output_type": "execute_result"
    }
   ],
   "source": [
    "df.head()"
   ]
  },
  {
   "cell_type": "code",
   "execution_count": 9,
   "metadata": {},
   "outputs": [
    {
     "name": "stdout",
     "output_type": "stream",
     "text": [
      "   AppointmentID Gender          ScheduledDay  Age      Neighbourhood  \\\n",
      "0        5642903      F  2016-04-29T18:38:08Z   62    JARDIM DA PENHA   \n",
      "1        5642503      M  2016-04-29T16:08:27Z   56    JARDIM DA PENHA   \n",
      "2        5642549      F  2016-04-29T16:19:04Z   62      MATA DA PRAIA   \n",
      "3        5642828      F  2016-04-29T17:29:31Z    8  PONTAL DE CAMBURI   \n",
      "4        5642494      F  2016-04-29T16:07:23Z   56    JARDIM DA PENHA   \n",
      "\n",
      "   Scholarship  Hipertension  Diabetes  Alcoholism  Handcap  SMS_received  \\\n",
      "0            0             1         0           0        0             0   \n",
      "1            0             0         0           0        0             0   \n",
      "2            0             0         0           0        0             0   \n",
      "3            0             0         0           0        0             0   \n",
      "4            0             1         1           0        0             0   \n",
      "\n",
      "   Did_patient_visit  \n",
      "0               True  \n",
      "1               True  \n",
      "2               True  \n",
      "3               True  \n",
      "4               True  \n"
     ]
    }
   ],
   "source": [
    "#Step 3: Making amends to the last column\n",
    "df.rename(columns={'No-show': 'Did_patient_visit'}, inplace = True)\n",
    "df['Did_patient_visit'] = df['Did_patient_visit'].apply(lambda x: True if x == 'No' else False) #'No' meant patient makes a visit.\n",
    "print(df.head())\n"
   ]
  },
  {
   "cell_type": "code",
   "execution_count": 10,
   "metadata": {},
   "outputs": [
    {
     "data": {
      "text/html": [
       "<div>\n",
       "<style scoped>\n",
       "    .dataframe tbody tr th:only-of-type {\n",
       "        vertical-align: middle;\n",
       "    }\n",
       "\n",
       "    .dataframe tbody tr th {\n",
       "        vertical-align: top;\n",
       "    }\n",
       "\n",
       "    .dataframe thead th {\n",
       "        text-align: right;\n",
       "    }\n",
       "</style>\n",
       "<table border=\"1\" class=\"dataframe\">\n",
       "  <thead>\n",
       "    <tr style=\"text-align: right;\">\n",
       "      <th></th>\n",
       "      <th>appointmentid</th>\n",
       "      <th>gender</th>\n",
       "      <th>scheduledday</th>\n",
       "      <th>age</th>\n",
       "      <th>neighbourhood</th>\n",
       "      <th>scholarship</th>\n",
       "      <th>hipertension</th>\n",
       "      <th>diabetes</th>\n",
       "      <th>alcoholism</th>\n",
       "      <th>handcap</th>\n",
       "      <th>sms_received</th>\n",
       "      <th>did_patient_visit</th>\n",
       "    </tr>\n",
       "  </thead>\n",
       "  <tbody>\n",
       "    <tr>\n",
       "      <td>0</td>\n",
       "      <td>5642903</td>\n",
       "      <td>F</td>\n",
       "      <td>2016-04-29T18:38:08Z</td>\n",
       "      <td>62</td>\n",
       "      <td>JARDIM DA PENHA</td>\n",
       "      <td>0</td>\n",
       "      <td>1</td>\n",
       "      <td>0</td>\n",
       "      <td>0</td>\n",
       "      <td>0</td>\n",
       "      <td>0</td>\n",
       "      <td>True</td>\n",
       "    </tr>\n",
       "    <tr>\n",
       "      <td>1</td>\n",
       "      <td>5642503</td>\n",
       "      <td>M</td>\n",
       "      <td>2016-04-29T16:08:27Z</td>\n",
       "      <td>56</td>\n",
       "      <td>JARDIM DA PENHA</td>\n",
       "      <td>0</td>\n",
       "      <td>0</td>\n",
       "      <td>0</td>\n",
       "      <td>0</td>\n",
       "      <td>0</td>\n",
       "      <td>0</td>\n",
       "      <td>True</td>\n",
       "    </tr>\n",
       "    <tr>\n",
       "      <td>2</td>\n",
       "      <td>5642549</td>\n",
       "      <td>F</td>\n",
       "      <td>2016-04-29T16:19:04Z</td>\n",
       "      <td>62</td>\n",
       "      <td>MATA DA PRAIA</td>\n",
       "      <td>0</td>\n",
       "      <td>0</td>\n",
       "      <td>0</td>\n",
       "      <td>0</td>\n",
       "      <td>0</td>\n",
       "      <td>0</td>\n",
       "      <td>True</td>\n",
       "    </tr>\n",
       "    <tr>\n",
       "      <td>3</td>\n",
       "      <td>5642828</td>\n",
       "      <td>F</td>\n",
       "      <td>2016-04-29T17:29:31Z</td>\n",
       "      <td>8</td>\n",
       "      <td>PONTAL DE CAMBURI</td>\n",
       "      <td>0</td>\n",
       "      <td>0</td>\n",
       "      <td>0</td>\n",
       "      <td>0</td>\n",
       "      <td>0</td>\n",
       "      <td>0</td>\n",
       "      <td>True</td>\n",
       "    </tr>\n",
       "    <tr>\n",
       "      <td>4</td>\n",
       "      <td>5642494</td>\n",
       "      <td>F</td>\n",
       "      <td>2016-04-29T16:07:23Z</td>\n",
       "      <td>56</td>\n",
       "      <td>JARDIM DA PENHA</td>\n",
       "      <td>0</td>\n",
       "      <td>1</td>\n",
       "      <td>1</td>\n",
       "      <td>0</td>\n",
       "      <td>0</td>\n",
       "      <td>0</td>\n",
       "      <td>True</td>\n",
       "    </tr>\n",
       "  </tbody>\n",
       "</table>\n",
       "</div>"
      ],
      "text/plain": [
       "   appointmentid gender          scheduledday  age      neighbourhood  \\\n",
       "0        5642903      F  2016-04-29T18:38:08Z   62    JARDIM DA PENHA   \n",
       "1        5642503      M  2016-04-29T16:08:27Z   56    JARDIM DA PENHA   \n",
       "2        5642549      F  2016-04-29T16:19:04Z   62      MATA DA PRAIA   \n",
       "3        5642828      F  2016-04-29T17:29:31Z    8  PONTAL DE CAMBURI   \n",
       "4        5642494      F  2016-04-29T16:07:23Z   56    JARDIM DA PENHA   \n",
       "\n",
       "   scholarship  hipertension  diabetes  alcoholism  handcap  sms_received  \\\n",
       "0            0             1         0           0        0             0   \n",
       "1            0             0         0           0        0             0   \n",
       "2            0             0         0           0        0             0   \n",
       "3            0             0         0           0        0             0   \n",
       "4            0             1         1           0        0             0   \n",
       "\n",
       "   did_patient_visit  \n",
       "0               True  \n",
       "1               True  \n",
       "2               True  \n",
       "3               True  \n",
       "4               True  "
      ]
     },
     "execution_count": 10,
     "metadata": {},
     "output_type": "execute_result"
    }
   ],
   "source": [
    "#Step 4: changing the column names to lowercase for easing out the analysis process.\n",
    "df.rename(columns = lambda x : x.lower(), inplace = True)\n",
    "df.head()"
   ]
  },
  {
   "cell_type": "code",
   "execution_count": 11,
   "metadata": {},
   "outputs": [
    {
     "data": {
      "text/html": [
       "<div>\n",
       "<style scoped>\n",
       "    .dataframe tbody tr th:only-of-type {\n",
       "        vertical-align: middle;\n",
       "    }\n",
       "\n",
       "    .dataframe tbody tr th {\n",
       "        vertical-align: top;\n",
       "    }\n",
       "\n",
       "    .dataframe thead th {\n",
       "        text-align: right;\n",
       "    }\n",
       "</style>\n",
       "<table border=\"1\" class=\"dataframe\">\n",
       "  <thead>\n",
       "    <tr style=\"text-align: right;\">\n",
       "      <th></th>\n",
       "      <th>appointmentid</th>\n",
       "      <th>age</th>\n",
       "      <th>scholarship</th>\n",
       "      <th>hipertension</th>\n",
       "      <th>diabetes</th>\n",
       "      <th>alcoholism</th>\n",
       "      <th>handcap</th>\n",
       "      <th>sms_received</th>\n",
       "    </tr>\n",
       "  </thead>\n",
       "  <tbody>\n",
       "    <tr>\n",
       "      <td>count</td>\n",
       "      <td>1.105270e+05</td>\n",
       "      <td>110527.000000</td>\n",
       "      <td>110527.000000</td>\n",
       "      <td>110527.000000</td>\n",
       "      <td>110527.000000</td>\n",
       "      <td>110527.000000</td>\n",
       "      <td>110527.000000</td>\n",
       "      <td>110527.000000</td>\n",
       "    </tr>\n",
       "    <tr>\n",
       "      <td>mean</td>\n",
       "      <td>5.675305e+06</td>\n",
       "      <td>37.088874</td>\n",
       "      <td>0.098266</td>\n",
       "      <td>0.197246</td>\n",
       "      <td>0.071865</td>\n",
       "      <td>0.030400</td>\n",
       "      <td>0.022248</td>\n",
       "      <td>0.321026</td>\n",
       "    </tr>\n",
       "    <tr>\n",
       "      <td>std</td>\n",
       "      <td>7.129575e+04</td>\n",
       "      <td>23.110205</td>\n",
       "      <td>0.297675</td>\n",
       "      <td>0.397921</td>\n",
       "      <td>0.258265</td>\n",
       "      <td>0.171686</td>\n",
       "      <td>0.161543</td>\n",
       "      <td>0.466873</td>\n",
       "    </tr>\n",
       "    <tr>\n",
       "      <td>min</td>\n",
       "      <td>5.030230e+06</td>\n",
       "      <td>-1.000000</td>\n",
       "      <td>0.000000</td>\n",
       "      <td>0.000000</td>\n",
       "      <td>0.000000</td>\n",
       "      <td>0.000000</td>\n",
       "      <td>0.000000</td>\n",
       "      <td>0.000000</td>\n",
       "    </tr>\n",
       "    <tr>\n",
       "      <td>25%</td>\n",
       "      <td>5.640286e+06</td>\n",
       "      <td>18.000000</td>\n",
       "      <td>0.000000</td>\n",
       "      <td>0.000000</td>\n",
       "      <td>0.000000</td>\n",
       "      <td>0.000000</td>\n",
       "      <td>0.000000</td>\n",
       "      <td>0.000000</td>\n",
       "    </tr>\n",
       "    <tr>\n",
       "      <td>50%</td>\n",
       "      <td>5.680573e+06</td>\n",
       "      <td>37.000000</td>\n",
       "      <td>0.000000</td>\n",
       "      <td>0.000000</td>\n",
       "      <td>0.000000</td>\n",
       "      <td>0.000000</td>\n",
       "      <td>0.000000</td>\n",
       "      <td>0.000000</td>\n",
       "    </tr>\n",
       "    <tr>\n",
       "      <td>75%</td>\n",
       "      <td>5.725524e+06</td>\n",
       "      <td>55.000000</td>\n",
       "      <td>0.000000</td>\n",
       "      <td>0.000000</td>\n",
       "      <td>0.000000</td>\n",
       "      <td>0.000000</td>\n",
       "      <td>0.000000</td>\n",
       "      <td>1.000000</td>\n",
       "    </tr>\n",
       "    <tr>\n",
       "      <td>max</td>\n",
       "      <td>5.790484e+06</td>\n",
       "      <td>115.000000</td>\n",
       "      <td>1.000000</td>\n",
       "      <td>1.000000</td>\n",
       "      <td>1.000000</td>\n",
       "      <td>1.000000</td>\n",
       "      <td>4.000000</td>\n",
       "      <td>1.000000</td>\n",
       "    </tr>\n",
       "  </tbody>\n",
       "</table>\n",
       "</div>"
      ],
      "text/plain": [
       "       appointmentid            age    scholarship   hipertension  \\\n",
       "count   1.105270e+05  110527.000000  110527.000000  110527.000000   \n",
       "mean    5.675305e+06      37.088874       0.098266       0.197246   \n",
       "std     7.129575e+04      23.110205       0.297675       0.397921   \n",
       "min     5.030230e+06      -1.000000       0.000000       0.000000   \n",
       "25%     5.640286e+06      18.000000       0.000000       0.000000   \n",
       "50%     5.680573e+06      37.000000       0.000000       0.000000   \n",
       "75%     5.725524e+06      55.000000       0.000000       0.000000   \n",
       "max     5.790484e+06     115.000000       1.000000       1.000000   \n",
       "\n",
       "            diabetes     alcoholism        handcap   sms_received  \n",
       "count  110527.000000  110527.000000  110527.000000  110527.000000  \n",
       "mean        0.071865       0.030400       0.022248       0.321026  \n",
       "std         0.258265       0.171686       0.161543       0.466873  \n",
       "min         0.000000       0.000000       0.000000       0.000000  \n",
       "25%         0.000000       0.000000       0.000000       0.000000  \n",
       "50%         0.000000       0.000000       0.000000       0.000000  \n",
       "75%         0.000000       0.000000       0.000000       1.000000  \n",
       "max         1.000000       1.000000       4.000000       1.000000  "
      ]
     },
     "execution_count": 11,
     "metadata": {},
     "output_type": "execute_result"
    }
   ],
   "source": [
    "#Let us carry out basic exploration to further inspect the DF.\n",
    "df.describe()"
   ]
  },
  {
   "cell_type": "markdown",
   "metadata": {},
   "source": [
    "As we can see from above that min age is -1 which is impossible. We need to correct that."
   ]
  },
  {
   "cell_type": "code",
   "execution_count": 12,
   "metadata": {},
   "outputs": [
    {
     "name": "stdout",
     "output_type": "stream",
     "text": [
      "       appointmentid gender          scheduledday  age neighbourhood  \\\n",
      "99832        5775010      F  2016-06-06T08:58:13Z   -1         ROMÃO   \n",
      "\n",
      "       scholarship  hipertension  diabetes  alcoholism  handcap  sms_received  \\\n",
      "99832            0             0         0           0        0             0   \n",
      "\n",
      "       did_patient_visit  \n",
      "99832               True  \n"
     ]
    }
   ],
   "source": [
    "#Let us find out that particular row\n",
    "df1 = df.query('age == -1')\n",
    "print(df1)"
   ]
  },
  {
   "cell_type": "code",
   "execution_count": 13,
   "metadata": {},
   "outputs": [],
   "source": [
    "#let's drop the row.\n",
    "df.drop(99832, inplace = True)"
   ]
  },
  {
   "cell_type": "code",
   "execution_count": 14,
   "metadata": {},
   "outputs": [
    {
     "data": {
      "text/html": [
       "<div>\n",
       "<style scoped>\n",
       "    .dataframe tbody tr th:only-of-type {\n",
       "        vertical-align: middle;\n",
       "    }\n",
       "\n",
       "    .dataframe tbody tr th {\n",
       "        vertical-align: top;\n",
       "    }\n",
       "\n",
       "    .dataframe thead th {\n",
       "        text-align: right;\n",
       "    }\n",
       "</style>\n",
       "<table border=\"1\" class=\"dataframe\">\n",
       "  <thead>\n",
       "    <tr style=\"text-align: right;\">\n",
       "      <th></th>\n",
       "      <th>appointmentid</th>\n",
       "      <th>age</th>\n",
       "      <th>scholarship</th>\n",
       "      <th>hipertension</th>\n",
       "      <th>diabetes</th>\n",
       "      <th>alcoholism</th>\n",
       "      <th>handcap</th>\n",
       "      <th>sms_received</th>\n",
       "    </tr>\n",
       "  </thead>\n",
       "  <tbody>\n",
       "    <tr>\n",
       "      <td>count</td>\n",
       "      <td>1.105260e+05</td>\n",
       "      <td>110526.000000</td>\n",
       "      <td>110526.000000</td>\n",
       "      <td>110526.000000</td>\n",
       "      <td>110526.000000</td>\n",
       "      <td>110526.000000</td>\n",
       "      <td>110526.000000</td>\n",
       "      <td>110526.000000</td>\n",
       "    </tr>\n",
       "    <tr>\n",
       "      <td>mean</td>\n",
       "      <td>5.675304e+06</td>\n",
       "      <td>37.089219</td>\n",
       "      <td>0.098266</td>\n",
       "      <td>0.197248</td>\n",
       "      <td>0.071865</td>\n",
       "      <td>0.030400</td>\n",
       "      <td>0.022248</td>\n",
       "      <td>0.321029</td>\n",
       "    </tr>\n",
       "    <tr>\n",
       "      <td>std</td>\n",
       "      <td>7.129544e+04</td>\n",
       "      <td>23.110026</td>\n",
       "      <td>0.297676</td>\n",
       "      <td>0.397923</td>\n",
       "      <td>0.258266</td>\n",
       "      <td>0.171686</td>\n",
       "      <td>0.161543</td>\n",
       "      <td>0.466874</td>\n",
       "    </tr>\n",
       "    <tr>\n",
       "      <td>min</td>\n",
       "      <td>5.030230e+06</td>\n",
       "      <td>0.000000</td>\n",
       "      <td>0.000000</td>\n",
       "      <td>0.000000</td>\n",
       "      <td>0.000000</td>\n",
       "      <td>0.000000</td>\n",
       "      <td>0.000000</td>\n",
       "      <td>0.000000</td>\n",
       "    </tr>\n",
       "    <tr>\n",
       "      <td>25%</td>\n",
       "      <td>5.640285e+06</td>\n",
       "      <td>18.000000</td>\n",
       "      <td>0.000000</td>\n",
       "      <td>0.000000</td>\n",
       "      <td>0.000000</td>\n",
       "      <td>0.000000</td>\n",
       "      <td>0.000000</td>\n",
       "      <td>0.000000</td>\n",
       "    </tr>\n",
       "    <tr>\n",
       "      <td>50%</td>\n",
       "      <td>5.680572e+06</td>\n",
       "      <td>37.000000</td>\n",
       "      <td>0.000000</td>\n",
       "      <td>0.000000</td>\n",
       "      <td>0.000000</td>\n",
       "      <td>0.000000</td>\n",
       "      <td>0.000000</td>\n",
       "      <td>0.000000</td>\n",
       "    </tr>\n",
       "    <tr>\n",
       "      <td>75%</td>\n",
       "      <td>5.725523e+06</td>\n",
       "      <td>55.000000</td>\n",
       "      <td>0.000000</td>\n",
       "      <td>0.000000</td>\n",
       "      <td>0.000000</td>\n",
       "      <td>0.000000</td>\n",
       "      <td>0.000000</td>\n",
       "      <td>1.000000</td>\n",
       "    </tr>\n",
       "    <tr>\n",
       "      <td>max</td>\n",
       "      <td>5.790484e+06</td>\n",
       "      <td>115.000000</td>\n",
       "      <td>1.000000</td>\n",
       "      <td>1.000000</td>\n",
       "      <td>1.000000</td>\n",
       "      <td>1.000000</td>\n",
       "      <td>4.000000</td>\n",
       "      <td>1.000000</td>\n",
       "    </tr>\n",
       "  </tbody>\n",
       "</table>\n",
       "</div>"
      ],
      "text/plain": [
       "       appointmentid            age    scholarship   hipertension  \\\n",
       "count   1.105260e+05  110526.000000  110526.000000  110526.000000   \n",
       "mean    5.675304e+06      37.089219       0.098266       0.197248   \n",
       "std     7.129544e+04      23.110026       0.297676       0.397923   \n",
       "min     5.030230e+06       0.000000       0.000000       0.000000   \n",
       "25%     5.640285e+06      18.000000       0.000000       0.000000   \n",
       "50%     5.680572e+06      37.000000       0.000000       0.000000   \n",
       "75%     5.725523e+06      55.000000       0.000000       0.000000   \n",
       "max     5.790484e+06     115.000000       1.000000       1.000000   \n",
       "\n",
       "            diabetes     alcoholism        handcap   sms_received  \n",
       "count  110526.000000  110526.000000  110526.000000  110526.000000  \n",
       "mean        0.071865       0.030400       0.022248       0.321029  \n",
       "std         0.258266       0.171686       0.161543       0.466874  \n",
       "min         0.000000       0.000000       0.000000       0.000000  \n",
       "25%         0.000000       0.000000       0.000000       0.000000  \n",
       "50%         0.000000       0.000000       0.000000       0.000000  \n",
       "75%         0.000000       0.000000       0.000000       1.000000  \n",
       "max         1.000000       1.000000       4.000000       1.000000  "
      ]
     },
     "execution_count": 14,
     "metadata": {},
     "output_type": "execute_result"
    }
   ],
   "source": [
    "#Re-validating\n",
    "df.describe()"
   ]
  },
  {
   "cell_type": "code",
   "execution_count": 15,
   "metadata": {},
   "outputs": [
    {
     "data": {
      "text/plain": [
       "Text(0.5, 1.0, 'Number of People vs Hypertension')"
      ]
     },
     "execution_count": 15,
     "metadata": {},
     "output_type": "execute_result"
    },
    {
     "data": {
      "image/png": "[encoded data removed]",
      "text/plain": [
       "<Figure size 432x288 with 1 Axes>"
      ]
     },
     "metadata": {
      "needs_background": "light"
     },
     "output_type": "display_data"
    }
   ],
   "source": [
    "#Basic level exploration\n",
    "df['hipertension'].value_counts().plot(kind = 'bar');\n",
    "plt.xlabel(\"Hypertension\")\n",
    "plt.ylabel(\"Number of People\")\n",
    "plt.title(\"Number of People vs Hypertension\")"
   ]
  },
  {
   "cell_type": "code",
   "execution_count": 16,
   "metadata": {},
   "outputs": [
    {
     "data": {
      "image/png": "[encoded data removed]",
      "text/plain": [
       "<Figure size 432x288 with 1 Axes>"
      ]
     },
     "metadata": {},
     "output_type": "display_data"
    }
   ],
   "source": [
    "#Basic exploration\n",
    "df['sms_received'].value_counts().plot(kind = 'pie');"
   ]
  },
  {
   "cell_type": "code",
   "execution_count": 17,
   "metadata": {},
   "outputs": [
    {
     "data": {
      "image/png": "[encoded data removed]",
      "text/plain": [
       "<Figure size 432x288 with 1 Axes>"
      ]
     },
     "metadata": {
      "needs_background": "light"
     },
     "output_type": "display_data"
    }
   ],
   "source": [
    "#Basic exploration\n",
    "df['alcoholism'].value_counts().plot(kind = 'bar');"
   ]
  },
  {
   "cell_type": "code",
   "execution_count": 18,
   "metadata": {},
   "outputs": [
    {
     "data": {
      "text/plain": [
       "81"
      ]
     },
     "execution_count": 18,
     "metadata": {},
     "output_type": "execute_result"
    }
   ],
   "source": [
    "#How many localities are a part of this project\n",
    "df.neighbourhood.nunique()"
   ]
  },
  {
   "cell_type": "markdown",
   "metadata": {},
   "source": [
    "## DATA EXPLORATION\n",
    "\n",
    "### Research Question 1 How many people visit the doctor on the scheduled day.\n",
    "Let us address this basic question about the data.\n"
   ]
  },
  {
   "cell_type": "code",
   "execution_count": 19,
   "metadata": {},
   "outputs": [
    {
     "data": {
      "text/html": [
       "<div>\n",
       "<style scoped>\n",
       "    .dataframe tbody tr th:only-of-type {\n",
       "        vertical-align: middle;\n",
       "    }\n",
       "\n",
       "    .dataframe tbody tr th {\n",
       "        vertical-align: top;\n",
       "    }\n",
       "\n",
       "    .dataframe thead th {\n",
       "        text-align: right;\n",
       "    }\n",
       "</style>\n",
       "<table border=\"1\" class=\"dataframe\">\n",
       "  <thead>\n",
       "    <tr style=\"text-align: right;\">\n",
       "      <th></th>\n",
       "      <th>did_patient_visit</th>\n",
       "      <th>counts</th>\n",
       "    </tr>\n",
       "  </thead>\n",
       "  <tbody>\n",
       "    <tr>\n",
       "      <td>0</td>\n",
       "      <td>False</td>\n",
       "      <td>22319</td>\n",
       "    </tr>\n",
       "    <tr>\n",
       "      <td>1</td>\n",
       "      <td>True</td>\n",
       "      <td>88207</td>\n",
       "    </tr>\n",
       "  </tbody>\n",
       "</table>\n",
       "</div>"
      ],
      "text/plain": [
       "   did_patient_visit  counts\n",
       "0              False   22319\n",
       "1               True   88207"
      ]
     },
     "execution_count": 19,
     "metadata": {},
     "output_type": "execute_result"
    }
   ],
   "source": [
    "#Step 1.0: Let us start by knowing the number of shows and no-shows for the appointment\n",
    "df_population = df.groupby('did_patient_visit').age.count().reset_index() #We can chose any column to give us the right estimate.\n",
    "df_population.rename(columns = {'age' : 'counts'}, inplace = True) #Renaming helps avoiding confusion.\n",
    "df_population"
   ]
  },
  {
   "cell_type": "code",
   "execution_count": 20,
   "metadata": {},
   "outputs": [
    {
     "data": {
      "image/png": "[encoded data removed]",
      "text/plain": [
       "<Figure size 432x432 with 1 Axes>"
      ]
     },
     "metadata": {},
     "output_type": "display_data"
    }
   ],
   "source": [
    "#Step 1.1: Pie chart depicting the percentage of shows and no-shows\n",
    "df['did_patient_visit'].value_counts().plot(kind = 'pie', autopct = '%0.2f%%', figsize = (6,6));"
   ]
  },
  {
   "cell_type": "code",
   "execution_count": 21,
   "metadata": {},
   "outputs": [
    {
     "data": {
      "text/html": [
       "<div>\n",
       "<style scoped>\n",
       "    .dataframe tbody tr th:only-of-type {\n",
       "        vertical-align: middle;\n",
       "    }\n",
       "\n",
       "    .dataframe tbody tr th {\n",
       "        vertical-align: top;\n",
       "    }\n",
       "\n",
       "    .dataframe thead th {\n",
       "        text-align: right;\n",
       "    }\n",
       "</style>\n",
       "<table border=\"1\" class=\"dataframe\">\n",
       "  <thead>\n",
       "    <tr style=\"text-align: right;\">\n",
       "      <th></th>\n",
       "      <th>gender</th>\n",
       "      <th>counts</th>\n",
       "    </tr>\n",
       "  </thead>\n",
       "  <tbody>\n",
       "    <tr>\n",
       "      <td>0</td>\n",
       "      <td>F</td>\n",
       "      <td>71839</td>\n",
       "    </tr>\n",
       "    <tr>\n",
       "      <td>1</td>\n",
       "      <td>M</td>\n",
       "      <td>38687</td>\n",
       "    </tr>\n",
       "  </tbody>\n",
       "</table>\n",
       "</div>"
      ],
      "text/plain": [
       "  gender  counts\n",
       "0      F   71839\n",
       "1      M   38687"
      ]
     },
     "execution_count": 21,
     "metadata": {},
     "output_type": "execute_result"
    }
   ],
   "source": [
    "# Step 2.0: Let us now segregate the male and female population\n",
    "#Number of males and females\n",
    "df_gender = df.groupby('gender').age.count().reset_index() \n",
    "df_gender.rename(columns ={'age' : 'counts'}, inplace = True) \n",
    "df_gender"
   ]
  },
  {
   "cell_type": "code",
   "execution_count": 22,
   "metadata": {},
   "outputs": [
    {
     "data": {
      "image/png": "[encoded data removed]",
      "text/plain": [
       "<Figure size 432x432 with 1 Axes>"
      ]
     },
     "metadata": {},
     "output_type": "display_data"
    }
   ],
   "source": [
    "# Step 2.1: With the help of pie chart depicting the percentage of males and females in the total population\n",
    "df['gender'].value_counts().plot(kind = 'pie', autopct = '%0.2f%%', figsize= (6,6));"
   ]
  },
  {
   "cell_type": "code",
   "execution_count": 23,
   "metadata": {},
   "outputs": [
    {
     "name": "stdout",
     "output_type": "stream",
     "text": [
      "did_patient_visit  False  True \n",
      "gender                         \n",
      "F                  14594  57245\n",
      "M                   7725  30962\n"
     ]
    }
   ],
   "source": [
    "#Step 3.0: Let us explore how many males and females turn up for appointment\n",
    "number_of_people = df.groupby(['did_patient_visit', 'gender']).appointmentid.count().reset_index()\n",
    "number_of_people.rename(columns ={'appointmentid' : 'counts'}, inplace = True)\n",
    "\n",
    "\n",
    "#Step 3.1 :Pivoting the DataFrame for better readability and making operations easier.\n",
    "number_of_people_pivot = number_of_people.pivot(columns = 'did_patient_visit',index = 'gender', values = 'counts')\n",
    "print(number_of_people_pivot)"
   ]
  },
  {
   "cell_type": "code",
   "execution_count": 24,
   "metadata": {},
   "outputs": [
    {
     "name": "stdout",
     "output_type": "stream",
     "text": [
      "gender\n",
      "F    0.796851\n",
      "M    0.800321\n",
      "dtype: float64\n"
     ]
    }
   ],
   "source": [
    "#Step 3.2: Percentage of males and females turning up for their appointments\n",
    "show = number_of_people_pivot[True]/(number_of_people_pivot[True] + number_of_people_pivot[False])\n",
    "print(show)"
   ]
  },
  {
   "cell_type": "code",
   "execution_count": 25,
   "metadata": {},
   "outputs": [
    {
     "data": {
      "text/plain": [
       "<matplotlib.axes._subplots.AxesSubplot at 0x9bf3df0>"
      ]
     },
     "execution_count": 25,
     "metadata": {},
     "output_type": "execute_result"
    },
    {
     "data": {
      "image/png": "[encoded data removed]",
      "text/plain": [
       "<Figure size 432x288 with 1 Axes>"
      ]
     },
     "metadata": {
      "needs_background": "light"
     },
     "output_type": "display_data"
    }
   ],
   "source": [
    "#Step 3.3 : Let's plot it on a graph\n",
    "number_of_people_pivot.plot(title = 'Number of People showing up')"
   ]
  },
  {
   "cell_type": "markdown",
   "metadata": {},
   "source": [
    "### Findings:\n",
    "###### The number of people turning up for their scheduled appointment is around 80%.\n",
    "###### The number of females in the given population of study is higher, there are 71839 females who make up 65% of the total population.\n",
    "###### Almost equal percentage of males and females show up for their appointment (80%)."
   ]
  },
  {
   "cell_type": "markdown",
   "metadata": {},
   "source": [
    "### Research Question 2 : Does the location of the hospital has an impact on the patient visits?\n"
   ]
  },
  {
   "cell_type": "code",
   "execution_count": 26,
   "metadata": {},
   "outputs": [
    {
     "name": "stdout",
     "output_type": "stream",
     "text": [
      "       neighbourhood  did_patient_visit  counts\n",
      "0          AEROPORTO              False       1\n",
      "1          AEROPORTO               True       7\n",
      "2         ANDORINHAS              False     521\n",
      "3         ANDORINHAS               True    1741\n",
      "4    ANTÔNIO HONÓRIO              False      50\n",
      "..               ...                ...     ...\n",
      "155       TABUAZEIRO               True    2559\n",
      "156    UNIVERSITÁRIO              False      32\n",
      "157    UNIVERSITÁRIO               True     120\n",
      "158       VILA RUBIM              False     141\n",
      "159       VILA RUBIM               True     710\n",
      "\n",
      "[160 rows x 3 columns]\n"
     ]
    }
   ],
   "source": [
    "#Step 1.0 : In a quest to find any relation between the location of hospital and patient visit.\n",
    "df_neighbour = df.groupby(['neighbourhood', 'did_patient_visit']).appointmentid.count().reset_index()\n",
    "df_neighbour.rename(columns={'appointmentid' : 'counts'}, inplace = True)\n",
    "print(df_neighbour)\n"
   ]
  },
  {
   "cell_type": "code",
   "execution_count": 27,
   "metadata": {},
   "outputs": [
    {
     "name": "stdout",
     "output_type": "stream",
     "text": [
      "did_patient_visit    False   True \n",
      "neighbourhood                     \n",
      "AEROPORTO              1.0     7.0\n",
      "ANDORINHAS           521.0  1741.0\n",
      "ANTÔNIO HONÓRIO       50.0   221.0\n",
      "ARIOVALDO FAVALESSA   62.0   220.0\n",
      "BARRO VERMELHO        91.0   332.0\n",
      "...                    ...     ...\n",
      "SÃO JOSÉ             428.0  1549.0\n",
      "SÃO PEDRO            515.0  1933.0\n",
      "TABUAZEIRO           573.0  2559.0\n",
      "UNIVERSITÁRIO         32.0   120.0\n",
      "VILA RUBIM           141.0   710.0\n",
      "\n",
      "[81 rows x 2 columns]\n"
     ]
    }
   ],
   "source": [
    "#Step 1.1 :Pivoting the DataFrame for easing out the analysis process\n",
    "df_neighbour_pivot = df_neighbour.pivot(columns = 'did_patient_visit', index ='neighbourhood' , values = 'counts')\n",
    "print(df_neighbour_pivot)\n"
   ]
  },
  {
   "cell_type": "code",
   "execution_count": 28,
   "metadata": {},
   "outputs": [
    {
     "data": {
      "text/plain": [
       "<matplotlib.axes._subplots.AxesSubplot at 0x91097f0>"
      ]
     },
     "execution_count": 28,
     "metadata": {},
     "output_type": "execute_result"
    },
    {
     "data": {
      "image/png": "[encoded data removed]",
      "text/plain": [
       "<Figure size 1152x576 with 1 Axes>"
      ]
     },
     "metadata": {
      "needs_background": "light"
     },
     "output_type": "display_data"
    }
   ],
   "source": [
    "#Step 1.3: Let us plot the graph\n",
    "df_neighbour_pivot.plot(title = 'Number of people turning up', figsize = (16,8))"
   ]
  },
  {
   "cell_type": "code",
   "execution_count": 29,
   "metadata": {},
   "outputs": [
    {
     "data": {
      "text/html": [
       "<div>\n",
       "<style scoped>\n",
       "    .dataframe tbody tr th:only-of-type {\n",
       "        vertical-align: middle;\n",
       "    }\n",
       "\n",
       "    .dataframe tbody tr th {\n",
       "        vertical-align: top;\n",
       "    }\n",
       "\n",
       "    .dataframe thead th {\n",
       "        text-align: right;\n",
       "    }\n",
       "</style>\n",
       "<table border=\"1\" class=\"dataframe\">\n",
       "  <thead>\n",
       "    <tr style=\"text-align: right;\">\n",
       "      <th>did_patient_visit</th>\n",
       "      <th>False</th>\n",
       "      <th>True</th>\n",
       "      <th>percent</th>\n",
       "    </tr>\n",
       "    <tr>\n",
       "      <th>neighbourhood</th>\n",
       "      <th></th>\n",
       "      <th></th>\n",
       "      <th></th>\n",
       "    </tr>\n",
       "  </thead>\n",
       "  <tbody>\n",
       "    <tr>\n",
       "      <td>AEROPORTO</td>\n",
       "      <td>1.0</td>\n",
       "      <td>7.0</td>\n",
       "      <td>0.875000</td>\n",
       "    </tr>\n",
       "    <tr>\n",
       "      <td>ANDORINHAS</td>\n",
       "      <td>521.0</td>\n",
       "      <td>1741.0</td>\n",
       "      <td>0.769673</td>\n",
       "    </tr>\n",
       "    <tr>\n",
       "      <td>ANTÔNIO HONÓRIO</td>\n",
       "      <td>50.0</td>\n",
       "      <td>221.0</td>\n",
       "      <td>0.815498</td>\n",
       "    </tr>\n",
       "    <tr>\n",
       "      <td>ARIOVALDO FAVALESSA</td>\n",
       "      <td>62.0</td>\n",
       "      <td>220.0</td>\n",
       "      <td>0.780142</td>\n",
       "    </tr>\n",
       "    <tr>\n",
       "      <td>BARRO VERMELHO</td>\n",
       "      <td>91.0</td>\n",
       "      <td>332.0</td>\n",
       "      <td>0.784870</td>\n",
       "    </tr>\n",
       "  </tbody>\n",
       "</table>\n",
       "</div>"
      ],
      "text/plain": [
       "did_patient_visit    False    True   percent\n",
       "neighbourhood                               \n",
       "AEROPORTO              1.0     7.0  0.875000\n",
       "ANDORINHAS           521.0  1741.0  0.769673\n",
       "ANTÔNIO HONÓRIO       50.0   221.0  0.815498\n",
       "ARIOVALDO FAVALESSA   62.0   220.0  0.780142\n",
       "BARRO VERMELHO        91.0   332.0  0.784870"
      ]
     },
     "execution_count": 29,
     "metadata": {},
     "output_type": "execute_result"
    }
   ],
   "source": [
    "#Step 1.4: Calculating the percentage of people making it to the appointment from each locality.\n",
    "df_neighbour_pivot['percent'] = df_neighbour_pivot[True]/(df_neighbour_pivot[True] + df_neighbour_pivot[False])\n",
    "df_neighbour_pivot.head()\n"
   ]
  },
  {
   "cell_type": "code",
   "execution_count": 30,
   "metadata": {},
   "outputs": [
    {
     "name": "stdout",
     "output_type": "stream",
     "text": [
      "0.7108150470219435\n",
      "did_patient_visit  False   True   percent\n",
      "neighbourhood                            \n",
      "SANTOS DUMONT      369.0  907.0  0.710815\n"
     ]
    }
   ],
   "source": [
    "#Step 1.5: Extracting the locality that sees the least percentage of patient visits.\n",
    "print(df_neighbour_pivot['percent'].min())\n",
    "#let's extract this row\n",
    "df_row_min = df_neighbour_pivot.query('percent == 0.7108150470219435')\n",
    "print(df_row_min)"
   ]
  },
  {
   "cell_type": "code",
   "execution_count": 31,
   "metadata": {},
   "outputs": [
    {
     "name": "stdout",
     "output_type": "stream",
     "text": [
      "0.9142857142857143\n",
      "did_patient_visit  False  True   percent\n",
      "neighbourhood                           \n",
      "ILHA DO BOI          3.0  32.0  0.914286\n"
     ]
    }
   ],
   "source": [
    "#Step 1.6: Extracting the neighbourhood that sees the highest percentage of people promptly turning up for their appointments\n",
    "print(df_neighbour_pivot['percent'].max())\n",
    "#let's extract this row\n",
    "df_row_max = df_neighbour_pivot.query('percent == 0.9142857142857143')\n",
    "print(df_row_max)"
   ]
  },
  {
   "cell_type": "code",
   "execution_count": 32,
   "metadata": {},
   "outputs": [
    {
     "data": {
      "text/html": [
       "<div>\n",
       "<style scoped>\n",
       "    .dataframe tbody tr th:only-of-type {\n",
       "        vertical-align: middle;\n",
       "    }\n",
       "\n",
       "    .dataframe tbody tr th {\n",
       "        vertical-align: top;\n",
       "    }\n",
       "\n",
       "    .dataframe thead th {\n",
       "        text-align: right;\n",
       "    }\n",
       "</style>\n",
       "<table border=\"1\" class=\"dataframe\">\n",
       "  <thead>\n",
       "    <tr style=\"text-align: right;\">\n",
       "      <th>did_patient_visit</th>\n",
       "      <th>False</th>\n",
       "      <th>True</th>\n",
       "      <th>percent</th>\n",
       "    </tr>\n",
       "  </thead>\n",
       "  <tbody>\n",
       "    <tr>\n",
       "      <td>count</td>\n",
       "      <td>80.000000</td>\n",
       "      <td>80.00000</td>\n",
       "      <td>79.000000</td>\n",
       "    </tr>\n",
       "    <tr>\n",
       "      <td>mean</td>\n",
       "      <td>278.987500</td>\n",
       "      <td>1102.58750</td>\n",
       "      <td>0.802030</td>\n",
       "    </tr>\n",
       "    <tr>\n",
       "      <td>std</td>\n",
       "      <td>278.000751</td>\n",
       "      <td>1096.25939</td>\n",
       "      <td>0.031694</td>\n",
       "    </tr>\n",
       "    <tr>\n",
       "      <td>min</td>\n",
       "      <td>1.000000</td>\n",
       "      <td>1.00000</td>\n",
       "      <td>0.710815</td>\n",
       "    </tr>\n",
       "    <tr>\n",
       "      <td>25%</td>\n",
       "      <td>75.000000</td>\n",
       "      <td>324.00000</td>\n",
       "      <td>0.783028</td>\n",
       "    </tr>\n",
       "    <tr>\n",
       "      <td>50%</td>\n",
       "      <td>184.500000</td>\n",
       "      <td>709.50000</td>\n",
       "      <td>0.802412</td>\n",
       "    </tr>\n",
       "    <tr>\n",
       "      <td>75%</td>\n",
       "      <td>428.250000</td>\n",
       "      <td>1605.00000</td>\n",
       "      <td>0.819724</td>\n",
       "    </tr>\n",
       "    <tr>\n",
       "      <td>max</td>\n",
       "      <td>1465.000000</td>\n",
       "      <td>6252.00000</td>\n",
       "      <td>0.914286</td>\n",
       "    </tr>\n",
       "  </tbody>\n",
       "</table>\n",
       "</div>"
      ],
      "text/plain": [
       "did_patient_visit        False        True    percent\n",
       "count                80.000000    80.00000  79.000000\n",
       "mean                278.987500  1102.58750   0.802030\n",
       "std                 278.000751  1096.25939   0.031694\n",
       "min                   1.000000     1.00000   0.710815\n",
       "25%                  75.000000   324.00000   0.783028\n",
       "50%                 184.500000   709.50000   0.802412\n",
       "75%                 428.250000  1605.00000   0.819724\n",
       "max                1465.000000  6252.00000   0.914286"
      ]
     },
     "execution_count": 32,
     "metadata": {},
     "output_type": "execute_result"
    }
   ],
   "source": [
    "#Step 1.7: As we can see above, max and min can lead to false interpretations as the number of people aren't the same for \n",
    "#each locality\n",
    "df_neighbour_pivot.describe()"
   ]
  },
  {
   "cell_type": "code",
   "execution_count": 33,
   "metadata": {},
   "outputs": [],
   "source": [
    "#Step 1.8 : Let us find the localities that are in the bottom 25% and will require some monitoring.\n",
    "bin_edges0 = [0.710815, 0.783028, 0.914286]\n",
    "bin_names0 = ['Monitor', 'No_need_to_monitor']\n",
    "df_neighbour_pivot['Categorization'] = pd.cut(df_neighbour_pivot['percent'], bin_edges0, labels = bin_names0)"
   ]
  },
  {
   "cell_type": "code",
   "execution_count": 36,
   "metadata": {},
   "outputs": [
    {
     "data": {
      "text/html": [
       "<div>\n",
       "<style scoped>\n",
       "    .dataframe tbody tr th:only-of-type {\n",
       "        vertical-align: middle;\n",
       "    }\n",
       "\n",
       "    .dataframe tbody tr th {\n",
       "        vertical-align: top;\n",
       "    }\n",
       "\n",
       "    .dataframe thead th {\n",
       "        text-align: right;\n",
       "    }\n",
       "</style>\n",
       "<table border=\"1\" class=\"dataframe\">\n",
       "  <thead>\n",
       "    <tr style=\"text-align: right;\">\n",
       "      <th>did_patient_visit</th>\n",
       "      <th>False</th>\n",
       "      <th>True</th>\n",
       "      <th>percent</th>\n",
       "      <th>Categorization</th>\n",
       "    </tr>\n",
       "    <tr>\n",
       "      <th>neighbourhood</th>\n",
       "      <th></th>\n",
       "      <th></th>\n",
       "      <th></th>\n",
       "      <th></th>\n",
       "    </tr>\n",
       "  </thead>\n",
       "  <tbody>\n",
       "    <tr>\n",
       "      <td>AEROPORTO</td>\n",
       "      <td>1.0</td>\n",
       "      <td>7.0</td>\n",
       "      <td>0.875000</td>\n",
       "      <td>No_need_to_monitor</td>\n",
       "    </tr>\n",
       "    <tr>\n",
       "      <td>ANDORINHAS</td>\n",
       "      <td>521.0</td>\n",
       "      <td>1741.0</td>\n",
       "      <td>0.769673</td>\n",
       "      <td>Monitor</td>\n",
       "    </tr>\n",
       "    <tr>\n",
       "      <td>ANTÔNIO HONÓRIO</td>\n",
       "      <td>50.0</td>\n",
       "      <td>221.0</td>\n",
       "      <td>0.815498</td>\n",
       "      <td>No_need_to_monitor</td>\n",
       "    </tr>\n",
       "    <tr>\n",
       "      <td>ARIOVALDO FAVALESSA</td>\n",
       "      <td>62.0</td>\n",
       "      <td>220.0</td>\n",
       "      <td>0.780142</td>\n",
       "      <td>Monitor</td>\n",
       "    </tr>\n",
       "    <tr>\n",
       "      <td>BARRO VERMELHO</td>\n",
       "      <td>91.0</td>\n",
       "      <td>332.0</td>\n",
       "      <td>0.784870</td>\n",
       "      <td>No_need_to_monitor</td>\n",
       "    </tr>\n",
       "  </tbody>\n",
       "</table>\n",
       "</div>"
      ],
      "text/plain": [
       "did_patient_visit    False    True   percent      Categorization\n",
       "neighbourhood                                                   \n",
       "AEROPORTO              1.0     7.0  0.875000  No_need_to_monitor\n",
       "ANDORINHAS           521.0  1741.0  0.769673             Monitor\n",
       "ANTÔNIO HONÓRIO       50.0   221.0  0.815498  No_need_to_monitor\n",
       "ARIOVALDO FAVALESSA   62.0   220.0  0.780142             Monitor\n",
       "BARRO VERMELHO        91.0   332.0  0.784870  No_need_to_monitor"
      ]
     },
     "execution_count": 36,
     "metadata": {},
     "output_type": "execute_result"
    }
   ],
   "source": [
    "#Step 1.9 : Print\n",
    "df_neighbour_pivot.head()"
   ]
  },
  {
   "cell_type": "markdown",
   "metadata": {},
   "source": [
    "### Research Question 3 : Age brackets\n",
    "#### Which population group is gripped by which ailment.\n",
    "#### Which age group shows up the most for appointments.\n",
    "#### Which ailment causes the people to prompting show up for their appointment\n"
   ]
  },
  {
   "cell_type": "code",
   "execution_count": 37,
   "metadata": {},
   "outputs": [
    {
     "name": "stdout",
     "output_type": "stream",
     "text": [
      "   appointmentid gender          scheduledday  age      neighbourhood  \\\n",
      "0        5642903      F  2016-04-29T18:38:08Z   62    JARDIM DA PENHA   \n",
      "1        5642503      M  2016-04-29T16:08:27Z   56    JARDIM DA PENHA   \n",
      "2        5642549      F  2016-04-29T16:19:04Z   62      MATA DA PRAIA   \n",
      "3        5642828      F  2016-04-29T17:29:31Z    8  PONTAL DE CAMBURI   \n",
      "4        5642494      F  2016-04-29T16:07:23Z   56    JARDIM DA PENHA   \n",
      "\n",
      "   scholarship  hipertension  diabetes  alcoholism  handcap  sms_received  \\\n",
      "0            0             1         0           0        0             0   \n",
      "1            0             0         0           0        0             0   \n",
      "2            0             0         0           0        0             0   \n",
      "3            0             0         0           0        0             0   \n",
      "4            0             1         1           0        0             0   \n",
      "\n",
      "   did_patient_visit  age_groups  \n",
      "0               True     elderly  \n",
      "1               True     elderly  \n",
      "2               True     elderly  \n",
      "3               True  Child/Teen  \n",
      "4               True     elderly  \n"
     ]
    }
   ],
   "source": [
    "#Step 1.0 :Using pandas cut function to categorize the age groups\n",
    "bin_edges = [ 0.000000, 18.000000, 37.000000, 55.000000, 115.000000]\n",
    "\n",
    "#Labels for the groups\n",
    "bin_names = ['Child/Teen','Youth', 'Mid_age', 'elderly']\n",
    "\n",
    "#This creates the new column\n",
    "df['age_groups'] = pd.cut(df['age'], bin_edges, labels = bin_names)\n",
    "print(df.head())"
   ]
  },
  {
   "cell_type": "code",
   "execution_count": 38,
   "metadata": {},
   "outputs": [
    {
     "name": "stdout",
     "output_type": "stream",
     "text": [
      "   alcoholism  age_groups  counts\n",
      "0           0  Child/Teen   25299\n",
      "1           0       Youth   26694\n",
      "2           0     Mid_age   25230\n",
      "3           0     elderly   26404\n",
      "4           1  Child/Teen      28\n",
      "5           1       Youth     556\n",
      "6           1     Mid_age    1676\n",
      "7           1     elderly    1100\n"
     ]
    }
   ],
   "source": [
    "#Step 2.0: Checking for ailments : ail_1 = alcoholism\n",
    "df_ail_1 = df.groupby(['alcoholism','age_groups']).gender.count().reset_index()\n",
    "df_ail_1.rename(columns = {'gender' : 'counts'}, inplace = True)\n",
    "print(df_ail_1)"
   ]
  },
  {
   "cell_type": "code",
   "execution_count": 39,
   "metadata": {},
   "outputs": [
    {
     "name": "stdout",
     "output_type": "stream",
     "text": [
      "   alcoholism  age_groups  counts\n",
      "4           1  Child/Teen      28\n",
      "5           1       Youth     556\n",
      "6           1     Mid_age    1676\n",
      "7           1     elderly    1100\n"
     ]
    }
   ],
   "source": [
    "#Step 2.1: Filtering out the population affected due to alcoholism.\n",
    "df_alch= df_ail_1.query('alcoholism == 1')\n",
    "print(df_alch)"
   ]
  },
  {
   "cell_type": "code",
   "execution_count": 40,
   "metadata": {},
   "outputs": [
    {
     "name": "stdout",
     "output_type": "stream",
     "text": [
      "   gender  alcoholism  age_groups  counts\n",
      "0       F           0  Child/Teen   13222\n",
      "1       F           0       Youth   19504\n",
      "2       F           0     Mid_age   17878\n",
      "3       F           0     elderly   18291\n",
      "4       F           1  Child/Teen      11\n",
      "5       F           1       Youth     318\n",
      "6       F           1     Mid_age     626\n",
      "7       F           1     elderly     268\n",
      "8       M           0  Child/Teen   12077\n",
      "9       M           0       Youth    7190\n",
      "10      M           0     Mid_age    7352\n",
      "11      M           0     elderly    8113\n",
      "12      M           1  Child/Teen      17\n",
      "13      M           1       Youth     238\n",
      "14      M           1     Mid_age    1050\n",
      "15      M           1     elderly     832\n"
     ]
    }
   ],
   "source": [
    "#Step 2.2: Let us dig a little depper and find out what percentage of males and females are affected by it\n",
    "df_ail_1_gd = df.groupby(['gender', 'alcoholism', 'age_groups']).age.count().reset_index()\n",
    "df_ail_1_gd.rename(columns ={'age' : 'counts'}, inplace = True)\n",
    "print(df_ail_1_gd)"
   ]
  },
  {
   "cell_type": "code",
   "execution_count": 41,
   "metadata": {},
   "outputs": [
    {
     "name": "stdout",
     "output_type": "stream",
     "text": [
      "  gender  alcoholism  age_groups  counts\n",
      "4      F           1  Child/Teen      11\n",
      "5      F           1       Youth     318\n",
      "6      F           1     Mid_age     626\n",
      "7      F           1     elderly     268\n",
      "   gender  alcoholism  age_groups  counts\n",
      "12      M           1  Child/Teen      17\n",
      "13      M           1       Youth     238\n",
      "14      M           1     Mid_age    1050\n",
      "15      M           1     elderly     832\n"
     ]
    }
   ],
   "source": [
    "#Step 2.3: Separating the dataframes for males and females \n",
    "df_ail_1f = df_ail_1_gd[(df_ail_1_gd.gender == \"F\") & (df_ail_1_gd.alcoholism == 1)]\n",
    "print(df_ail_1f)\n",
    "df_ail_1m = df_ail_1_gd[(df_ail_1_gd.gender == \"M\") & (df_ail_1_gd.alcoholism == 1)]\n",
    "print(df_ail_1m)"
   ]
  },
  {
   "cell_type": "code",
   "execution_count": 42,
   "metadata": {},
   "outputs": [
    {
     "data": {
      "text/plain": [
       "<matplotlib.legend.Legend at 0x9d4e250>"
      ]
     },
     "execution_count": 42,
     "metadata": {},
     "output_type": "execute_result"
    },
    {
     "data": {
      "image/png": "[encoded data removed]",
      "text/plain": [
       "<Figure size 432x288 with 1 Axes>"
      ]
     },
     "metadata": {
      "needs_background": "light"
     },
     "output_type": "display_data"
    }
   ],
   "source": [
    "#Step 2.4: Plotting the graph\n",
    "x_values = [0,1,2,3]\n",
    "y_females = df_ail_1f.counts\n",
    "y_males = df_ail_1m.counts\n",
    "\n",
    "#Creating an axis\n",
    "\n",
    "\n",
    "ax= plt.subplot()\n",
    "ax.set_xticks([0,1,2,3])\n",
    "ax.set_xticklabels(['Child/Teen','Youth', 'Middle-aged', 'Elderly'], rotation = 90)\n",
    "plt.plot(x_values, y_females, color = 'Tomato', marker = 'o')\n",
    "plt.plot(x_values, y_males,color = 'Teal', marker = 'o')\n",
    "plt.xlabel('Age groups')\n",
    "plt.ylabel('No. of People affected by Alcoholism')\n",
    "plt.title('Number of people vs age groups')\n",
    "plt.legend(['Females', 'Males'])\n",
    "\n"
   ]
  },
  {
   "cell_type": "code",
   "execution_count": 43,
   "metadata": {},
   "outputs": [
    {
     "name": "stdout",
     "output_type": "stream",
     "text": [
      "    hipertension  age_groups gender  counts\n",
      "0              0  Child/Teen      F   13213\n",
      "1              0  Child/Teen      M   12074\n",
      "2              0       Youth      F   19017\n",
      "3              0       Youth      M    7058\n",
      "4              0     Mid_age      F   13898\n",
      "5              0     Mid_age      M    6573\n",
      "6              0     elderly      F    8651\n",
      "7              0     elderly      M    4702\n",
      "8              1  Child/Teen      F      20\n",
      "9              1  Child/Teen      M      20\n",
      "10             1       Youth      F     805\n",
      "11             1       Youth      M     370\n",
      "12             1     Mid_age      F    4606\n",
      "13             1     Mid_age      M    1829\n",
      "14             1     elderly      F    9908\n",
      "15             1     elderly      M    4243\n"
     ]
    }
   ],
   "source": [
    "#Step 3.0 :Checking for hypertension\n",
    "df_ail_2 = df.groupby(['hipertension','age_groups', 'gender']).age.count().reset_index()\n",
    "df_ail_2.rename(columns={'age' : 'counts'}, inplace = True)\n",
    "print(df_ail_2)"
   ]
  },
  {
   "cell_type": "code",
   "execution_count": 44,
   "metadata": {},
   "outputs": [
    {
     "name": "stdout",
     "output_type": "stream",
     "text": [
      "    hipertension  age_groups gender  counts\n",
      "8              1  Child/Teen      F      20\n",
      "10             1       Youth      F     805\n",
      "12             1     Mid_age      F    4606\n",
      "14             1     elderly      F    9908\n"
     ]
    }
   ],
   "source": [
    "#Step 3.1: Filtering out the people who have hypertension\n",
    "#Number of females who have hypertension:\n",
    "df_ail_2f = df_ail_2[(df_ail_2.gender == \"F\") & (df_ail_2.hipertension == 1)]\n",
    "print(df_ail_2f)"
   ]
  },
  {
   "cell_type": "code",
   "execution_count": 45,
   "metadata": {},
   "outputs": [
    {
     "name": "stdout",
     "output_type": "stream",
     "text": [
      "    hipertension  age_groups gender  counts\n",
      "9              1  Child/Teen      M      20\n",
      "11             1       Youth      M     370\n",
      "13             1     Mid_age      M    1829\n",
      "15             1     elderly      M    4243\n"
     ]
    }
   ],
   "source": [
    "#Step 3.2: Number of males who have hypertension:\n",
    "df_ail_2m = df_ail_2[(df_ail_2.gender == \"M\") & (df_ail_2.hipertension == 1)]\n",
    "print(df_ail_2m)"
   ]
  },
  {
   "cell_type": "code",
   "execution_count": 46,
   "metadata": {},
   "outputs": [
    {
     "data": {
      "text/plain": [
       "<matplotlib.legend.Legend at 0x8d2ac30>"
      ]
     },
     "execution_count": 46,
     "metadata": {},
     "output_type": "execute_result"
    },
    {
     "data": {
      "image/png": "[encoded data removed]",
      "text/plain": [
       "<Figure size 432x288 with 1 Axes>"
      ]
     },
     "metadata": {
      "needs_background": "light"
     },
     "output_type": "display_data"
    }
   ],
   "source": [
    "#Step 3.3: Plotting the graph\n",
    "y_females_hyper = df_ail_2f.counts\n",
    "y_males_hyper = df_ail_2m.counts\n",
    "\n",
    "\n",
    "\n",
    "\n",
    "#creating the axes\n",
    "ax1 = plt.subplot()\n",
    "ax1.set_xticks([0,1,2,3])\n",
    "ax1.set_xticklabels(['Child/Teen','Youth', 'Middle-aged', 'Elderly'], rotation = 90)\n",
    "plt.plot(x_values, y_females_hyper, color = 'Tomato', marker = 'o')\n",
    "plt.plot(x_values, y_males_hyper ,color = 'Teal', marker = 'o')\n",
    "plt.xlabel('Age groups')\n",
    "plt.ylabel('No. of People affected by Hypertension')\n",
    "plt.title('Number of people vs age groups')\n",
    "plt.legend(['Females', 'Males'])\n"
   ]
  },
  {
   "cell_type": "code",
   "execution_count": 47,
   "metadata": {},
   "outputs": [
    {
     "name": "stdout",
     "output_type": "stream",
     "text": [
      "    diabetes  age_groups gender  counts\n",
      "0          0  Child/Teen      F   13195\n",
      "1          0  Child/Teen      M   12081\n",
      "2          0       Youth      F   19574\n",
      "3          0       Youth      M    7344\n",
      "4          0     Mid_age      F   17098\n",
      "5          0     Mid_age      M    7791\n",
      "6          0     elderly      F   14645\n",
      "7          0     elderly      M    7316\n",
      "8          1  Child/Teen      F      38\n",
      "9          1  Child/Teen      M      13\n",
      "10         1       Youth      F     248\n",
      "11         1       Youth      M      84\n",
      "12         1     Mid_age      F    1406\n",
      "13         1     Mid_age      M     611\n",
      "14         1     elderly      F    3914\n",
      "15         1     elderly      M    1629\n"
     ]
    }
   ],
   "source": [
    "#Step 4.0: Checking for diabetes\n",
    "df_ail_3 = df.groupby(['diabetes','age_groups', 'gender']).age.count().reset_index()\n",
    "df_ail_3.rename(columns={'age' : 'counts'}, inplace = True)\n",
    "print(df_ail_3)"
   ]
  },
  {
   "cell_type": "code",
   "execution_count": 48,
   "metadata": {},
   "outputs": [
    {
     "name": "stdout",
     "output_type": "stream",
     "text": [
      "    diabetes  age_groups gender  counts\n",
      "8          1  Child/Teen      F      38\n",
      "10         1       Youth      F     248\n",
      "12         1     Mid_age      F    1406\n",
      "14         1     elderly      F    3914\n"
     ]
    }
   ],
   "source": [
    "#Step 4.1: Filtering out the people who have hypertension\n",
    "#Number of females who have hypertension:\n",
    "df_ail_3f = df_ail_3[(df_ail_3.gender == \"F\") & (df_ail_3.diabetes == 1)]\n",
    "print(df_ail_3f)"
   ]
  },
  {
   "cell_type": "code",
   "execution_count": 49,
   "metadata": {},
   "outputs": [
    {
     "name": "stdout",
     "output_type": "stream",
     "text": [
      "    diabetes  age_groups gender  counts\n",
      "9          1  Child/Teen      M      13\n",
      "11         1       Youth      M      84\n",
      "13         1     Mid_age      M     611\n",
      "15         1     elderly      M    1629\n"
     ]
    }
   ],
   "source": [
    "#Step 4.2: Number of males who have hypertension:\n",
    "df_ail_3m = df_ail_3[(df_ail_3.gender == \"M\") & (df_ail_3.diabetes == 1)]\n",
    "print(df_ail_3m)"
   ]
  },
  {
   "cell_type": "code",
   "execution_count": 50,
   "metadata": {},
   "outputs": [
    {
     "data": {
      "text/plain": [
       "<matplotlib.legend.Legend at 0x9d3e5f0>"
      ]
     },
     "execution_count": 50,
     "metadata": {},
     "output_type": "execute_result"
    },
    {
     "data": {
      "image/png": "[encoded data removed]",
      "text/plain": [
       "<Figure size 432x288 with 1 Axes>"
      ]
     },
     "metadata": {
      "needs_background": "light"
     },
     "output_type": "display_data"
    }
   ],
   "source": [
    "#Step 4.3: Plotting the graph\n",
    "y_females_diab = df_ail_3f.counts\n",
    "y_males_diab = df_ail_3m.counts\n",
    "\n",
    "\n",
    "\n",
    "\n",
    "#creating the axes\n",
    "ax2 = plt.subplot()\n",
    "ax2.set_xticks([0,1,2,3])\n",
    "ax2.set_xticklabels(['Child/Teen','Youth', 'Middle-aged', 'Elderly'], rotation = 90)\n",
    "plt.plot(x_values, y_females_diab, color = 'Tomato', marker = 'o')\n",
    "plt.plot(x_values, y_males_diab ,color = 'Teal', marker = 'o')\n",
    "plt.xlabel('Age groups')\n",
    "plt.ylabel('No. of People affected by Diabetes')\n",
    "plt.title('Number of people vs age groups')\n",
    "plt.legend(['Females', 'Males'])"
   ]
  },
  {
   "cell_type": "code",
   "execution_count": 51,
   "metadata": {},
   "outputs": [
    {
     "name": "stdout",
     "output_type": "stream",
     "text": [
      "    handcap  age_groups  counts\n",
      "0         0  Child/Teen   25061\n",
      "1         0       Youth   26849\n",
      "2         0     Mid_age   26337\n",
      "3         0     elderly   26500\n",
      "4         1  Child/Teen     219\n",
      "5         1       Youth     363\n",
      "6         1     Mid_age     533\n",
      "7         1     elderly     926\n",
      "8         2  Child/Teen      41\n",
      "9         2       Youth      37\n",
      "10        2     Mid_age      34\n",
      "11        2     elderly      71\n",
      "12        3  Child/Teen       4\n",
      "13        3     Mid_age       2\n",
      "14        3     elderly       7\n",
      "15        4  Child/Teen       2\n",
      "16        4       Youth       1\n"
     ]
    }
   ],
   "source": [
    "#Step 5.0 : Checking for handcap\n",
    "df_ail_4 = df.groupby(['handcap','age_groups']).age.count().reset_index()\n",
    "df_ail_4.rename(columns={'age' : 'counts'}, inplace = True)\n",
    "print(df_ail_4)\n"
   ]
  },
  {
   "cell_type": "code",
   "execution_count": 52,
   "metadata": {},
   "outputs": [
    {
     "data": {
      "image/png": "[encoded data removed]",
      "text/plain": [
       "<Figure size 432x432 with 1 Axes>"
      ]
     },
     "metadata": {},
     "output_type": "display_data"
    }
   ],
   "source": [
    "#Step 5.1: Finding out the percentage of people who are handcapped in different capacities \n",
    "df_ail_4['handcap'].value_counts().plot(kind = 'pie', autopct = '%0.1f%%', figsize = (6,6));"
   ]
  },
  {
   "cell_type": "code",
   "execution_count": 53,
   "metadata": {},
   "outputs": [
    {
     "name": "stdout",
     "output_type": "stream",
     "text": [
      "   age_groups  did_patient_visit  counts\n",
      "0  Child/Teen              False    5708\n",
      "1  Child/Teen               True   19619\n",
      "2       Youth              False    6414\n",
      "3       Youth               True   20836\n",
      "4     Mid_age              False    5255\n",
      "5     Mid_age               True   21651\n",
      "6     elderly              False    4303\n",
      "7     elderly               True   23201\n"
     ]
    }
   ],
   "source": [
    "#Step 6.0 :Age group that promptly shows up for the appointments\n",
    "df_group = df.groupby(['age_groups', 'did_patient_visit']).age.count().reset_index()\n",
    "df_group.rename(columns={'age' : 'counts'}, inplace = True)\n",
    "print(df_group)"
   ]
  },
  {
   "cell_type": "code",
   "execution_count": 54,
   "metadata": {},
   "outputs": [
    {
     "name": "stdout",
     "output_type": "stream",
     "text": [
      "   age_groups  did_patient_visit  counts\n",
      "1  Child/Teen               True   19619\n",
      "3       Youth               True   20836\n",
      "5     Mid_age               True   21651\n",
      "7     elderly               True   23201\n"
     ]
    }
   ],
   "source": [
    "#Step 6.1: Filtering the Number of people who show up for the appointment\n",
    "df_group_show = df_group.query('did_patient_visit == True')\n",
    "print(df_group_show)"
   ]
  },
  {
   "cell_type": "code",
   "execution_count": 55,
   "metadata": {},
   "outputs": [
    {
     "name": "stdout",
     "output_type": "stream",
     "text": [
      "   age_groups  did_patient_visit  counts\n",
      "0  Child/Teen              False    5708\n",
      "2       Youth              False    6414\n",
      "4     Mid_age              False    5255\n",
      "6     elderly              False    4303\n"
     ]
    }
   ],
   "source": [
    "#Step 6.2: Number and categories of people who did not show up \n",
    "df_group_no_show = df_group.query('did_patient_visit == False')\n",
    "print(df_group_no_show)"
   ]
  },
  {
   "cell_type": "code",
   "execution_count": 56,
   "metadata": {},
   "outputs": [
    {
     "name": "stdout",
     "output_type": "stream",
     "text": [
      "   scholarship  age_groups  counts\n",
      "0            0  Child/Teen   22144\n",
      "1            0       Youth   23536\n",
      "2            0     Mid_age   23964\n",
      "3            0     elderly   26534\n",
      "4            1  Child/Teen    3183\n",
      "5            1       Youth    3714\n",
      "6            1     Mid_age    2942\n",
      "7            1     elderly     970\n"
     ]
    }
   ],
   "source": [
    "#Step 7.0: Number of people in different age categories who are enrolled under the program\n",
    "df_prog = df.groupby(['scholarship', 'age_groups']).age.count().reset_index()\n",
    "df_prog.rename(columns ={'age' : 'counts'}, inplace = True)\n",
    "print(df_prog)"
   ]
  },
  {
   "cell_type": "code",
   "execution_count": 57,
   "metadata": {},
   "outputs": [
    {
     "name": "stdout",
     "output_type": "stream",
     "text": [
      "   scholarship  age_groups  counts\n",
      "4            1  Child/Teen    3183\n",
      "5            1       Youth    3714\n",
      "6            1     Mid_age    2942\n",
      "7            1     elderly     970\n"
     ]
    }
   ],
   "source": [
    "#Step 7.1: Filtering out the people who are enrolled\n",
    "df_prog_1 = df_prog.query('scholarship == 1')\n",
    "print(df_prog_1)\n",
    "y_prog = df_prog_1.counts"
   ]
  },
  {
   "cell_type": "code",
   "execution_count": 58,
   "metadata": {},
   "outputs": [
    {
     "name": "stdout",
     "output_type": "stream",
     "text": [
      "   sms_received  age_groups  counts\n",
      "0             0  Child/Teen   17775\n",
      "1             0       Youth   17932\n",
      "2             0     Mid_age   17908\n",
      "3             0     elderly   18787\n",
      "4             1  Child/Teen    7552\n",
      "5             1       Youth    9318\n",
      "6             1     Mid_age    8998\n",
      "7             1     elderly    8717\n"
     ]
    }
   ],
   "source": [
    "#Step 8.0: People who received SMS\n",
    "df_sms = df.groupby(['sms_received', 'age_groups']).age.count().reset_index()\n",
    "df_sms.rename(columns ={'age' : 'counts'}, inplace = True)\n",
    "print(df_sms)"
   ]
  },
  {
   "cell_type": "code",
   "execution_count": 59,
   "metadata": {},
   "outputs": [
    {
     "name": "stdout",
     "output_type": "stream",
     "text": [
      "   sms_received  age_groups  counts\n",
      "4             1  Child/Teen    7552\n",
      "5             1       Youth    9318\n",
      "6             1     Mid_age    8998\n",
      "7             1     elderly    8717\n"
     ]
    }
   ],
   "source": [
    "#Step 8.1: Filtering\n",
    "df_sms_1 = df_sms.query('sms_received == 1')\n",
    "print(df_sms_1)\n",
    "y_sms = df_sms_1.counts"
   ]
  },
  {
   "cell_type": "code",
   "execution_count": 60,
   "metadata": {},
   "outputs": [
    {
     "data": {
      "text/plain": [
       "<matplotlib.legend.Legend at 0x1400b30>"
      ]
     },
     "execution_count": 60,
     "metadata": {},
     "output_type": "execute_result"
    },
    {
     "data": {
      "image/png": "[encoded data removed]",
      "text/plain": [
       "<Figure size 432x288 with 1 Axes>"
      ]
     },
     "metadata": {
      "needs_background": "light"
     },
     "output_type": "display_data"
    }
   ],
   "source": [
    "#Step 8.2 : PLotting stacked bar chart that depicts the number of people who showed up and the ones who didn't.\n",
    "\n",
    "y_show = [19619, 20836, 21651, 23201]\n",
    "ax4 = plt.subplot()\n",
    "ax4.set_xticks(x_values)\n",
    "ax4.set_xticklabels(bin_names)\n",
    "plt.bar(range(len(bin_names)), y_show, color = 'IndianRed')\n",
    "y_no_show = [5708, 6414, 5255, 4303]\n",
    "\n",
    "plt.bar(range(len(bin_names)), y_no_show, bottom = y_show, color = 'CadetBlue')\n",
    "plt.ylabel('Number of People')\n",
    "\n",
    "#Plotting the line graph which shows the number of people enrolled in the program.\n",
    "plt.plot(range(len(bin_names)), y_prog, color = 'black', marker = 'o')\n",
    "plt.plot(range(len(bin_names)), y_sms, color = 'Navy', marker = 'o')\n",
    "plt.legend(['Scholarship', 'sms','Show','No-show'], loc = 10)\n"
   ]
  },
  {
   "cell_type": "markdown",
   "metadata": {},
   "source": [
    "### FINDINGS\n",
    "The above graph shows a stacked bar chart with the number of people showing up for the appointments and the one's who did not.\n",
    "The line graphs in black and blue help us understand how many of these were a part of the health benefit scheme and how many of those received sms reminders.\n",
    "1. The highest number of people who show up promptly for the appointment are the elderly. This is despite the fact that this group has the least number of beneficiaries of the health program.\n",
    "2. Youths are the one's who skip their appointments the most though they received the most number of sms reminders."
   ]
  },
  {
   "cell_type": "markdown",
   "metadata": {},
   "source": [
    "### Research Question 4: Which conditions (in the form of sms, health program or any ailments)  sees the most number of people visiting on their scheduled dates."
   ]
  },
  {
   "cell_type": "code",
   "execution_count": 61,
   "metadata": {},
   "outputs": [
    {
     "data": {
      "text/html": [
       "<div>\n",
       "<style scoped>\n",
       "    .dataframe tbody tr th:only-of-type {\n",
       "        vertical-align: middle;\n",
       "    }\n",
       "\n",
       "    .dataframe tbody tr th {\n",
       "        vertical-align: top;\n",
       "    }\n",
       "\n",
       "    .dataframe thead th {\n",
       "        text-align: right;\n",
       "    }\n",
       "</style>\n",
       "<table border=\"1\" class=\"dataframe\">\n",
       "  <thead>\n",
       "    <tr style=\"text-align: right;\">\n",
       "      <th></th>\n",
       "      <th>scholarship</th>\n",
       "      <th>did_patient_visit</th>\n",
       "      <th>counts</th>\n",
       "    </tr>\n",
       "  </thead>\n",
       "  <tbody>\n",
       "    <tr>\n",
       "      <td>0</td>\n",
       "      <td>0</td>\n",
       "      <td>False</td>\n",
       "      <td>19741</td>\n",
       "    </tr>\n",
       "    <tr>\n",
       "      <td>1</td>\n",
       "      <td>0</td>\n",
       "      <td>True</td>\n",
       "      <td>79924</td>\n",
       "    </tr>\n",
       "    <tr>\n",
       "      <td>2</td>\n",
       "      <td>1</td>\n",
       "      <td>False</td>\n",
       "      <td>2578</td>\n",
       "    </tr>\n",
       "    <tr>\n",
       "      <td>3</td>\n",
       "      <td>1</td>\n",
       "      <td>True</td>\n",
       "      <td>8283</td>\n",
       "    </tr>\n",
       "  </tbody>\n",
       "</table>\n",
       "</div>"
      ],
      "text/plain": [
       "   scholarship  did_patient_visit  counts\n",
       "0            0              False   19741\n",
       "1            0               True   79924\n",
       "2            1              False    2578\n",
       "3            1               True    8283"
      ]
     },
     "execution_count": 61,
     "metadata": {},
     "output_type": "execute_result"
    }
   ],
   "source": [
    "#Step 1.0 :Let us start addressing this question by segregating people on the basis of their enrollment for health program\n",
    "df_sch = df.groupby(['scholarship', 'did_patient_visit']).age.count().reset_index()\n",
    "df_sch.rename(columns = {'age' : 'counts'}, inplace = True)\n",
    "df_sch\n"
   ]
  },
  {
   "cell_type": "code",
   "execution_count": 62,
   "metadata": {},
   "outputs": [
    {
     "name": "stdout",
     "output_type": "stream",
     "text": [
      "[8283]\n",
      "[2578]\n"
     ]
    }
   ],
   "source": [
    "#Step 1.1: Filtering out the people who are enrolled in the program \n",
    "df_sch_show = df_sch.query('scholarship == 1').reset_index()\n",
    "\n",
    "\n",
    "#Creating a variable for plotting on graph\n",
    "y_sum_show = [] \n",
    "y_sum_show.append(df_sch_show.counts[1]) #Number of people who are enrolled and turn up for the appointment.\n",
    "print(y_sum_show)\n",
    "\n",
    "y_sum_no_show = []\n",
    "y_sum_no_show.append(df_sch_show.counts[0])\n",
    "print(y_sum_no_show)"
   ]
  },
  {
   "cell_type": "code",
   "execution_count": 63,
   "metadata": {},
   "outputs": [
    {
     "data": {
      "text/html": [
       "<div>\n",
       "<style scoped>\n",
       "    .dataframe tbody tr th:only-of-type {\n",
       "        vertical-align: middle;\n",
       "    }\n",
       "\n",
       "    .dataframe tbody tr th {\n",
       "        vertical-align: top;\n",
       "    }\n",
       "\n",
       "    .dataframe thead th {\n",
       "        text-align: right;\n",
       "    }\n",
       "</style>\n",
       "<table border=\"1\" class=\"dataframe\">\n",
       "  <thead>\n",
       "    <tr style=\"text-align: right;\">\n",
       "      <th></th>\n",
       "      <th>alcoholism</th>\n",
       "      <th>did_patient_visit</th>\n",
       "      <th>counts</th>\n",
       "    </tr>\n",
       "  </thead>\n",
       "  <tbody>\n",
       "    <tr>\n",
       "      <td>0</td>\n",
       "      <td>0</td>\n",
       "      <td>False</td>\n",
       "      <td>21642</td>\n",
       "    </tr>\n",
       "    <tr>\n",
       "      <td>1</td>\n",
       "      <td>0</td>\n",
       "      <td>True</td>\n",
       "      <td>85524</td>\n",
       "    </tr>\n",
       "    <tr>\n",
       "      <td>2</td>\n",
       "      <td>1</td>\n",
       "      <td>False</td>\n",
       "      <td>677</td>\n",
       "    </tr>\n",
       "    <tr>\n",
       "      <td>3</td>\n",
       "      <td>1</td>\n",
       "      <td>True</td>\n",
       "      <td>2683</td>\n",
       "    </tr>\n",
       "  </tbody>\n",
       "</table>\n",
       "</div>"
      ],
      "text/plain": [
       "   alcoholism  did_patient_visit  counts\n",
       "0           0              False   21642\n",
       "1           0               True   85524\n",
       "2           1              False     677\n",
       "3           1               True    2683"
      ]
     },
     "execution_count": 63,
     "metadata": {},
     "output_type": "execute_result"
    }
   ],
   "source": [
    "#Step 2.0: People who have alcholism and show up for the appointment\n",
    "df_alcoholism = df.groupby(['alcoholism', 'did_patient_visit']).age.count().reset_index()\n",
    "df_alcoholism.rename(columns = {'age' : 'counts'}, inplace = True)\n",
    "df_alcoholism"
   ]
  },
  {
   "cell_type": "code",
   "execution_count": 64,
   "metadata": {},
   "outputs": [
    {
     "data": {
      "text/html": [
       "<div>\n",
       "<style scoped>\n",
       "    .dataframe tbody tr th:only-of-type {\n",
       "        vertical-align: middle;\n",
       "    }\n",
       "\n",
       "    .dataframe tbody tr th {\n",
       "        vertical-align: top;\n",
       "    }\n",
       "\n",
       "    .dataframe thead th {\n",
       "        text-align: right;\n",
       "    }\n",
       "</style>\n",
       "<table border=\"1\" class=\"dataframe\">\n",
       "  <thead>\n",
       "    <tr style=\"text-align: right;\">\n",
       "      <th></th>\n",
       "      <th>index</th>\n",
       "      <th>alcoholism</th>\n",
       "      <th>did_patient_visit</th>\n",
       "      <th>counts</th>\n",
       "    </tr>\n",
       "  </thead>\n",
       "  <tbody>\n",
       "    <tr>\n",
       "      <td>0</td>\n",
       "      <td>2</td>\n",
       "      <td>1</td>\n",
       "      <td>False</td>\n",
       "      <td>677</td>\n",
       "    </tr>\n",
       "    <tr>\n",
       "      <td>1</td>\n",
       "      <td>3</td>\n",
       "      <td>1</td>\n",
       "      <td>True</td>\n",
       "      <td>2683</td>\n",
       "    </tr>\n",
       "  </tbody>\n",
       "</table>\n",
       "</div>"
      ],
      "text/plain": [
       "   index  alcoholism  did_patient_visit  counts\n",
       "0      2           1              False     677\n",
       "1      3           1               True    2683"
      ]
     },
     "execution_count": 64,
     "metadata": {},
     "output_type": "execute_result"
    }
   ],
   "source": [
    "#Step 2.1: Filtering out the people who are affected by alcoholism and make it up to the appointment\n",
    "df_alcoholism_show = df_alcoholism.query('alcoholism ==1').reset_index()\n",
    "df_alcoholism_show"
   ]
  },
  {
   "cell_type": "code",
   "execution_count": 65,
   "metadata": {},
   "outputs": [
    {
     "name": "stdout",
     "output_type": "stream",
     "text": [
      "[8283, 2683]\n",
      "[2578, 677]\n"
     ]
    }
   ],
   "source": [
    "#Step 2.2: Storing values to be used in plotting the summary graph\n",
    "y_sum_show.append(df_alcoholism_show.counts[1]) #Number of people who are alcoholics and turn up\n",
    "print(y_sum_show)\n",
    "\n",
    "y_sum_no_show.append(df_alcoholism_show.counts[0]) #Number of people who are alcoholics and don't turn up\n",
    "print(y_sum_no_show)"
   ]
  },
  {
   "cell_type": "code",
   "execution_count": 66,
   "metadata": {},
   "outputs": [],
   "source": [
    "#Step 3.0: People who have diabetes and show up for the appointment\n",
    "df_dia = df.groupby(['diabetes', 'did_patient_visit']).age.count().reset_index()\n",
    "df_dia.rename(columns={'age' : 'counts'}, inplace = True)"
   ]
  },
  {
   "cell_type": "code",
   "execution_count": 67,
   "metadata": {},
   "outputs": [
    {
     "data": {
      "text/html": [
       "<div>\n",
       "<style scoped>\n",
       "    .dataframe tbody tr th:only-of-type {\n",
       "        vertical-align: middle;\n",
       "    }\n",
       "\n",
       "    .dataframe tbody tr th {\n",
       "        vertical-align: top;\n",
       "    }\n",
       "\n",
       "    .dataframe thead th {\n",
       "        text-align: right;\n",
       "    }\n",
       "</style>\n",
       "<table border=\"1\" class=\"dataframe\">\n",
       "  <thead>\n",
       "    <tr style=\"text-align: right;\">\n",
       "      <th></th>\n",
       "      <th>index</th>\n",
       "      <th>diabetes</th>\n",
       "      <th>did_patient_visit</th>\n",
       "      <th>counts</th>\n",
       "    </tr>\n",
       "  </thead>\n",
       "  <tbody>\n",
       "    <tr>\n",
       "      <td>0</td>\n",
       "      <td>2</td>\n",
       "      <td>1</td>\n",
       "      <td>False</td>\n",
       "      <td>1430</td>\n",
       "    </tr>\n",
       "    <tr>\n",
       "      <td>1</td>\n",
       "      <td>3</td>\n",
       "      <td>1</td>\n",
       "      <td>True</td>\n",
       "      <td>6513</td>\n",
       "    </tr>\n",
       "  </tbody>\n",
       "</table>\n",
       "</div>"
      ],
      "text/plain": [
       "   index  diabetes  did_patient_visit  counts\n",
       "0      2         1              False    1430\n",
       "1      3         1               True    6513"
      ]
     },
     "execution_count": 67,
     "metadata": {},
     "output_type": "execute_result"
    }
   ],
   "source": [
    "#Step 3.1: Filtering \n",
    "df_dia_show = df_dia.query('diabetes == 1').reset_index()\n",
    "df_dia_show"
   ]
  },
  {
   "cell_type": "code",
   "execution_count": 68,
   "metadata": {},
   "outputs": [
    {
     "name": "stdout",
     "output_type": "stream",
     "text": [
      "[8283, 2683, 6513]\n",
      "[2578, 677, 1430]\n"
     ]
    }
   ],
   "source": [
    "#Step 3.2: Appending the values of patients turning up in the above created variables\n",
    "y_sum_show.append(df_dia_show.counts[1]) #Number of people who are alcoholics and turn up\n",
    "print(y_sum_show)\n",
    "\n",
    "y_sum_no_show.append(df_dia_show.counts[0]) #Number of people who are alcoholics and don't turn up\n",
    "print(y_sum_no_show)"
   ]
  },
  {
   "cell_type": "code",
   "execution_count": 69,
   "metadata": {},
   "outputs": [
    {
     "data": {
      "text/html": [
       "<div>\n",
       "<style scoped>\n",
       "    .dataframe tbody tr th:only-of-type {\n",
       "        vertical-align: middle;\n",
       "    }\n",
       "\n",
       "    .dataframe tbody tr th {\n",
       "        vertical-align: top;\n",
       "    }\n",
       "\n",
       "    .dataframe thead th {\n",
       "        text-align: right;\n",
       "    }\n",
       "</style>\n",
       "<table border=\"1\" class=\"dataframe\">\n",
       "  <thead>\n",
       "    <tr style=\"text-align: right;\">\n",
       "      <th></th>\n",
       "      <th>hipertension</th>\n",
       "      <th>did_patient_visit</th>\n",
       "      <th>counts</th>\n",
       "    </tr>\n",
       "  </thead>\n",
       "  <tbody>\n",
       "    <tr>\n",
       "      <td>0</td>\n",
       "      <td>0</td>\n",
       "      <td>False</td>\n",
       "      <td>18547</td>\n",
       "    </tr>\n",
       "    <tr>\n",
       "      <td>1</td>\n",
       "      <td>0</td>\n",
       "      <td>True</td>\n",
       "      <td>70178</td>\n",
       "    </tr>\n",
       "    <tr>\n",
       "      <td>2</td>\n",
       "      <td>1</td>\n",
       "      <td>False</td>\n",
       "      <td>3772</td>\n",
       "    </tr>\n",
       "    <tr>\n",
       "      <td>3</td>\n",
       "      <td>1</td>\n",
       "      <td>True</td>\n",
       "      <td>18029</td>\n",
       "    </tr>\n",
       "  </tbody>\n",
       "</table>\n",
       "</div>"
      ],
      "text/plain": [
       "   hipertension  did_patient_visit  counts\n",
       "0             0              False   18547\n",
       "1             0               True   70178\n",
       "2             1              False    3772\n",
       "3             1               True   18029"
      ]
     },
     "execution_count": 69,
     "metadata": {},
     "output_type": "execute_result"
    }
   ],
   "source": [
    "#Step 4.0: Number of People who are suffering from hypertension showing up for the appointment\n",
    "df_hyper = df.groupby(['hipertension','did_patient_visit']).age.count().reset_index()\n",
    "df_hyper.rename(columns ={'age' : 'counts'}, inplace = True)\n",
    "df_hyper"
   ]
  },
  {
   "cell_type": "code",
   "execution_count": 70,
   "metadata": {},
   "outputs": [
    {
     "data": {
      "text/html": [
       "<div>\n",
       "<style scoped>\n",
       "    .dataframe tbody tr th:only-of-type {\n",
       "        vertical-align: middle;\n",
       "    }\n",
       "\n",
       "    .dataframe tbody tr th {\n",
       "        vertical-align: top;\n",
       "    }\n",
       "\n",
       "    .dataframe thead th {\n",
       "        text-align: right;\n",
       "    }\n",
       "</style>\n",
       "<table border=\"1\" class=\"dataframe\">\n",
       "  <thead>\n",
       "    <tr style=\"text-align: right;\">\n",
       "      <th></th>\n",
       "      <th>index</th>\n",
       "      <th>hipertension</th>\n",
       "      <th>did_patient_visit</th>\n",
       "      <th>counts</th>\n",
       "    </tr>\n",
       "  </thead>\n",
       "  <tbody>\n",
       "    <tr>\n",
       "      <td>0</td>\n",
       "      <td>2</td>\n",
       "      <td>1</td>\n",
       "      <td>False</td>\n",
       "      <td>3772</td>\n",
       "    </tr>\n",
       "    <tr>\n",
       "      <td>1</td>\n",
       "      <td>3</td>\n",
       "      <td>1</td>\n",
       "      <td>True</td>\n",
       "      <td>18029</td>\n",
       "    </tr>\n",
       "  </tbody>\n",
       "</table>\n",
       "</div>"
      ],
      "text/plain": [
       "   index  hipertension  did_patient_visit  counts\n",
       "0      2             1              False    3772\n",
       "1      3             1               True   18029"
      ]
     },
     "execution_count": 70,
     "metadata": {},
     "output_type": "execute_result"
    }
   ],
   "source": [
    "#Step 4.1: Filtering out the where hypertension = 1\n",
    "df_hyper_show = df_hyper.query('hipertension == 1').reset_index()\n",
    "df_hyper_show"
   ]
  },
  {
   "cell_type": "code",
   "execution_count": 71,
   "metadata": {},
   "outputs": [
    {
     "name": "stdout",
     "output_type": "stream",
     "text": [
      "[8283, 2683, 6513, 18029]\n",
      "[2578, 677, 1430, 3772]\n"
     ]
    }
   ],
   "source": [
    "#Step 4.2: Appending the number of patients suffering from hypertension and turning up in the above created variables\n",
    "y_sum_show.append(df_hyper_show.counts[1]) #Number of people who are alcoholics and turn up\n",
    "print(y_sum_show)\n",
    "\n",
    "y_sum_no_show.append(df_hyper_show.counts[0]) #Number of people who are alcoholics and don't turn up\n",
    "print(y_sum_no_show)"
   ]
  },
  {
   "cell_type": "code",
   "execution_count": 72,
   "metadata": {},
   "outputs": [
    {
     "data": {
      "text/plain": [
       "<matplotlib.legend.Legend at 0x142c350>"
      ]
     },
     "execution_count": 72,
     "metadata": {},
     "output_type": "execute_result"
    },
    {
     "data": {
      "image/png": "[encoded data removed]",
      "text/plain": [
       "<Figure size 432x432 with 1 Axes>"
      ]
     },
     "metadata": {},
     "output_type": "display_data"
    }
   ],
   "source": [
    "#Step 5.0 : Let us now start looking at the population who received the sms reminding them of their visit.\n",
    "df['sms_received'].value_counts().plot(kind = 'pie', autopct = '%0.2f%%', figsize = (6,6));\n",
    "plt.legend(['Not received', 'received'])"
   ]
  },
  {
   "cell_type": "code",
   "execution_count": 73,
   "metadata": {},
   "outputs": [
    {
     "name": "stdout",
     "output_type": "stream",
     "text": [
      "   sms_received  did_patient_visit  counts\n",
      "0             0              False   12535\n",
      "1             0               True   62509\n",
      "2             1              False    9784\n",
      "3             1               True   25698\n"
     ]
    }
   ],
   "source": [
    "#Step 5.1 :Number of people who received the sms and made a visit\n",
    "df_sms = df.groupby(['sms_received', 'did_patient_visit']).age.count().reset_index()\n",
    "df_sms.rename(columns={'age' : 'counts'}, inplace = True)\n",
    "print(df_sms)"
   ]
  },
  {
   "cell_type": "code",
   "execution_count": 74,
   "metadata": {},
   "outputs": [
    {
     "data": {
      "text/html": [
       "<div>\n",
       "<style scoped>\n",
       "    .dataframe tbody tr th:only-of-type {\n",
       "        vertical-align: middle;\n",
       "    }\n",
       "\n",
       "    .dataframe tbody tr th {\n",
       "        vertical-align: top;\n",
       "    }\n",
       "\n",
       "    .dataframe thead th {\n",
       "        text-align: right;\n",
       "    }\n",
       "</style>\n",
       "<table border=\"1\" class=\"dataframe\">\n",
       "  <thead>\n",
       "    <tr style=\"text-align: right;\">\n",
       "      <th></th>\n",
       "      <th>index</th>\n",
       "      <th>sms_received</th>\n",
       "      <th>did_patient_visit</th>\n",
       "      <th>counts</th>\n",
       "    </tr>\n",
       "  </thead>\n",
       "  <tbody>\n",
       "    <tr>\n",
       "      <td>0</td>\n",
       "      <td>2</td>\n",
       "      <td>1</td>\n",
       "      <td>False</td>\n",
       "      <td>9784</td>\n",
       "    </tr>\n",
       "    <tr>\n",
       "      <td>1</td>\n",
       "      <td>3</td>\n",
       "      <td>1</td>\n",
       "      <td>True</td>\n",
       "      <td>25698</td>\n",
       "    </tr>\n",
       "  </tbody>\n",
       "</table>\n",
       "</div>"
      ],
      "text/plain": [
       "   index  sms_received  did_patient_visit  counts\n",
       "0      2             1              False    9784\n",
       "1      3             1               True   25698"
      ]
     },
     "execution_count": 74,
     "metadata": {},
     "output_type": "execute_result"
    }
   ],
   "source": [
    "#Step 5.2 : Let us filter the people who received the sms\n",
    "df_sms_filter = df_sms.query('sms_received == 1').reset_index()\n",
    "df_sms_filter"
   ]
  },
  {
   "cell_type": "code",
   "execution_count": 75,
   "metadata": {},
   "outputs": [],
   "source": [
    "#Step 5.3: Appening the appropriate values in the two variables created.\n",
    "y_sum_show.append(df_sms_filter.counts[1])\n",
    "y_sum_no_show.append(df_sms_filter.counts[0])"
   ]
  },
  {
   "cell_type": "code",
   "execution_count": 76,
   "metadata": {},
   "outputs": [
    {
     "name": "stdout",
     "output_type": "stream",
     "text": [
      "[8283, 2683, 6513, 18029, 25698] [2578, 677, 1430, 3772, 9784]\n"
     ]
    }
   ],
   "source": [
    "#Step 5.4\n",
    "print(y_sum_show, y_sum_no_show)"
   ]
  },
  {
   "cell_type": "code",
   "execution_count": 77,
   "metadata": {},
   "outputs": [
    {
     "name": "stderr",
     "output_type": "stream",
     "text": [
      "C:\\Users\\HP\\Anaconda3\\lib\\site-packages\\ipykernel_launcher.py:7: MatplotlibDeprecationWarning: Adding an axes using the same arguments as a previous axes currently reuses the earlier instance.  In a future version, a new instance will always be created and returned.  Meanwhile, this warning can be suppressed, and the future behavior ensured, by passing a unique label to each axes instance.\n",
      "  import sys\n"
     ]
    },
    {
     "data": {
      "text/plain": [
       "<matplotlib.legend.Legend at 0x1482710>"
      ]
     },
     "execution_count": 77,
     "metadata": {},
     "output_type": "execute_result"
    },
    {
     "data": {
      "image/png": "[encoded data removed]",
      "text/plain": [
       "<Figure size 432x288 with 1 Axes>"
      ]
     },
     "metadata": {
      "needs_background": "light"
     },
     "output_type": "display_data"
    }
   ],
   "source": [
    "#Plotting stacked bar chart\n",
    "x_plot = [0,1,2,3,4]\n",
    "plt.bar(x_plot, y_sum_show, color = 'DarkSeaGreen')\n",
    "plt.bar(x_plot, y_sum_no_show, bottom = y_sum_show, color = 'Crimson')\n",
    "\n",
    "#Adding labels, ticks and legend\n",
    "ax5 = plt.subplot()\n",
    "ax5.set_xticks(x_plot)\n",
    "ax5.set_xticklabels(['Scholarship', 'Alcoholism', 'Diabetes', 'Hypertension', 'sms_received'], rotation = 90)\n",
    "plt.ylabel('Number of People')\n",
    "plt.title('People who show up or not vs conditions')\n",
    "plt.legend(['Show', 'No-show'])\n"
   ]
  },
  {
   "cell_type": "markdown",
   "metadata": {},
   "source": [
    "### FINDINGS:\n",
    "1. Nudges: As we can see from the above graph that even though people received sms reminders, they did not visit their doctors.\n",
    "2. Ailments : People who have hypertension form the next highest category of patients who do not show up for their appointments."
   ]
  },
  {
   "cell_type": "markdown",
   "metadata": {},
   "source": [
    "# Conclusion\n",
    "## Summary of statistical findings\n",
    "Factors that help us predict whether the patient will turn up for the appointment or not:\n",
    "#### On a general note:\n",
    "1. 79.81% of the people turn up on the scheduled day of their appointments.\n",
    "2. 20.19% of the people won't turn up.\n",
    "\n",
    "\n",
    "#### Depending on 'gender':\n",
    "3. The population under study comprises of 65% females and 35% males.\n",
    "4. Percentage of females who show up for their appointment with the doctor : 79.68%\n",
    "5. Percentage of males who show up for their appointment with the doctor : 80.03%\n",
    "\n",
    "Hence we see that both males and females are equally-likely to visit the hospital on the scheduled day.\n",
    "\n",
    "#### The locality factor:\n",
    "The hospitals are located in 81 unique localities.\n",
    "6. There are hospitals where the attendance of patients is on the lower side as compared to the rest (between 71 -78 %) and might need monitoring. Whereas there are localities in which hospitals see high patient turn outs (highest being around 91%).\n",
    "\n",
    "### Age:\n",
    "The mean and median age of the population under study is 37 years. \n",
    "For the sake of analysis, we have created 4 age categories:\n",
    "\n",
    "0-18 : Child/Teen\n",
    "\n",
    "18-37 : Youth\n",
    "\n",
    "37-55 : Mid-aged\n",
    "\n",
    "55-115 : Elderly\n",
    "\n",
    "The age group that :\n",
    "\n",
    " Has the most number of people suffereing from alcoholism : middle aged men \n",
    " Has the most number of people suffering from hypertension and diabetes : Middle aged and elderly women \n",
    "\n",
    "7. The age group that most promptly makes scheduled visit is the elderly. On the other hand, the youth needs nudging as they form the category that misses their appointments the most.\n",
    " \n",
    "\n"
   ]
  },
  {
   "cell_type": "markdown",
   "metadata": {},
   "source": [
    "### LIMITATIONS :\n",
    "1. The data set has a lot of categorical variables. There is only up to a point that high level statistical analysis can be performed on them.\n",
    "2. We have mostly worked around descriptive statistics, for our analysis to be deeper : we need inferential tools. Regression models and sampling distributions can give us better insights about the dataset.\n",
    "3. There can be a lot of inter-dependencies between the data. We can at times establish a correlation between two variables but that may not signify causality.\n",
    "4. Also, we cannot eliminate the possibility of hidden variables. Hidden variables are those that are correlated with two variables who are in-turn not fundamentally related to each-other. This can sometimes lead to wrong causality linkages."
   ]
  },
  {
   "cell_type": "code",
   "execution_count": null,
   "metadata": {},
   "outputs": [],
   "source": []
  }
 ],
 "metadata": {
  "kernelspec": {
   "display_name": "Python 3",
   "language": "python",
   "name": "python3"
  },
  "language_info": {
   "codemirror_mode": {
    "name": "ipython",
    "version": 3
   },
   "file_extension": ".py",
   "mimetype": "text/x-python",
   "name": "python",
   "nbconvert_exporter": "python",
   "pygments_lexer": "ipython3",
   "version": "3.7.4"
  }
 },
 "nbformat": 4,
 "nbformat_minor": 2
}
